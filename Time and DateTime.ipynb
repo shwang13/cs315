{
 "cells": [
  {
   "cell_type": "markdown",
   "metadata": {},
   "source": [
    "# Time, Datetime, DateUtil\n",
    "\n",
    "Author: Eni Mustafaraj  \n",
    "\n",
    "This notebook contains mostly explanations and useful examples for the modules `time`, `datetime` and `dateutil`.\n",
    "There are a few exercises for you to make sure that you understand the concepts.\n",
    "\n",
    "**Table of Content**\n",
    "1. [The `time` module](#sec1)\n",
    "2. [The usages of `time`](#sec2)\n",
    "3. [The `datetime` module](#sec3)  \n",
    ".. Creating datetime objects  \n",
    ".. From Unix epoch to datetime  \n",
    ".. Comparing dates\n",
    "4. [The `timedelta` class](#sec4)\n",
    "5. [Arithmetic with `datetime` objects](#sec5)\n",
    "6. [From `datetime` to string](#sec6)  \n",
    ".. Exercise 1: String Conversion\n",
    "7. [From string to `datetime`](#sec7)  \n",
    ".. Exercise 2: Date Conversion\n",
    "8. [The `dateutil` module](#sec8)\n",
    "9. [Solutions](#sec9)"
   ]
  },
  {
   "cell_type": "markdown",
   "metadata": {},
   "source": [
    "<a id=\"sec1\"></a>"
   ]
  },
  {
   "cell_type": "markdown",
   "metadata": {},
   "source": [
    "## 1. The `time` module\n",
    "The built-in `time` module allows Python to read the system clock for the current time."
   ]
  },
  {
   "cell_type": "code",
   "execution_count": 1,
   "metadata": {},
   "outputs": [
    {
     "data": {
      "text/plain": [
       "1708480658.1497"
      ]
     },
     "execution_count": 1,
     "metadata": {},
     "output_type": "execute_result"
    }
   ],
   "source": [
    "import time\n",
    "time.time()"
   ]
  },
  {
   "cell_type": "markdown",
   "metadata": {},
   "source": [
    "The result that we get is the **number of seconds** that have elapsed since the Unix epoch, January 1st, 1970 at UTC.  This is an arbitrary day that was chosen as a fixed day, so that computer systems in different part of the world (with different timezones) can have it as a reference point.  \n",
    "\n",
    "We can convert these seconds into years, and we'll see that they show around 50+ years (time between 1970 to today)."
   ]
  },
  {
   "cell_type": "code",
   "execution_count": 2,
   "metadata": {},
   "outputs": [
    {
     "data": {
      "text/plain": [
       "54.175566323263084"
      ]
     },
     "execution_count": 2,
     "metadata": {},
     "output_type": "execute_result"
    }
   ],
   "source": [
    "oneYear = (60*60*24*365) # seconds * minutes * hours * days in a year\n",
    "time.time()/oneYear      # convert into years"
   ]
  },
  {
   "cell_type": "markdown",
   "metadata": {},
   "source": [
    "### Aside: Year 2038 problem\n",
    "\n",
    "You might have already started hearing about the [Year 2038 problem](https://en.wikipedia.org/wiki/Year_2038_problem), or the \"Unix Millenium Bug\". This bug is the 32-bit overflow. What does that mean? A course that might answer this question thoroughly is CS 240, since it's about how a computer is organized and how it stores data in the computer memory. \n",
    "\n",
    "Briefly, many computers still use 32 bits to store information in memory. 1 bit is reserved, 31 bits are for numbers.  Given that the computer uses binary representation of numbers, we can represent numbers up to 2^31."
   ]
  },
  {
   "cell_type": "code",
   "execution_count": 3,
   "metadata": {},
   "outputs": [
    {
     "data": {
      "text/plain": [
       "2147483648"
      ]
     },
     "execution_count": 3,
     "metadata": {},
     "output_type": "execute_result"
    }
   ],
   "source": [
    "2**31"
   ]
  },
  {
   "cell_type": "markdown",
   "metadata": {},
   "source": [
    "Thus, this will be the largest number of seconds we can represent with 32 bits.\n",
    "\n",
    "Now, let's see how will the epoch number look like in 2038. "
   ]
  },
  {
   "cell_type": "code",
   "execution_count": 4,
   "metadata": {},
   "outputs": [
    {
     "data": {
      "text/plain": [
       "2145916800"
      ]
     },
     "execution_count": 4,
     "metadata": {},
     "output_type": "execute_result"
    }
   ],
   "source": [
    "totalSeconds = \\\n",
    "(68 *  # years from 1970 to 2038\n",
    "365 *  # number of days in non-leap years\n",
    "24  *  # number of hours per day\n",
    "60  *  # number of minutes in a hour\n",
    "60 + \n",
    "17*24*60*60) # assuming 17 leap years in this period: 1972, 1976, etc. to 2036\n",
    "\n",
    "totalSeconds"
   ]
  },
  {
   "cell_type": "markdown",
   "metadata": {},
   "source": [
    "Let's calucate now the number of days away from the Unix bug in 2039."
   ]
  },
  {
   "cell_type": "code",
   "execution_count": 5,
   "metadata": {},
   "outputs": [
    {
     "name": "stdout",
     "output_type": "stream",
     "text": [
      "18.134814814814813\n"
     ]
    }
   ],
   "source": [
    "print((2**31 - totalSeconds)/(24*60*60))"
   ]
  },
  {
   "cell_type": "markdown",
   "metadata": {},
   "source": [
    "In fact, the expected \"doom day\" is January 19, 2038."
   ]
  },
  {
   "cell_type": "markdown",
   "metadata": {},
   "source": [
    "<a id=\"sec2\"></a>"
   ]
  },
  {
   "cell_type": "markdown",
   "metadata": {},
   "source": [
    "## 2. Usages of `time`\n",
    "\n",
    "Two usages of `time` are to measure how long it takes to run a script, and to pause the execution for some seconds.\n",
    "\n",
    "Let's create first a function tha might take some time to execute and then check how to use `time` to measure the execution period."
   ]
  },
  {
   "cell_type": "code",
   "execution_count": 6,
   "metadata": {},
   "outputs": [],
   "source": [
    "def calcProd():\n",
    "    \"\"\"Calculate the product of the first 100000 numbers.\"\"\"\n",
    "    product = 1\n",
    "    for i in range(1, 100000):\n",
    "        product = product * i\n",
    "    return product"
   ]
  },
  {
   "cell_type": "code",
   "execution_count": 7,
   "metadata": {},
   "outputs": [
    {
     "name": "stdout",
     "output_type": "stream",
     "text": [
      "7.505291223526001 seconds\n",
      "calculated product has 456569 digits.\n"
     ]
    }
   ],
   "source": [
    "import sys\n",
    "try:\n",
    "    sys.set_int_max_str_digits(1000000) # it's here because in some computers is required\n",
    "except:\n",
    "    pass\n",
    "\n",
    "startTime = time.time()   # get the moment the execution starts\n",
    "prod = calcProd()         # call the function\n",
    "endTime = time.time()     # get the moment the execution ends\n",
    "\n",
    "print(endTime - startTime, \"seconds\")\n",
    "print(\"calculated product has\", len(str(prod)), \"digits.\")"
   ]
  },
  {
   "cell_type": "markdown",
   "metadata": {},
   "source": [
    "**Note:** Because the function `calcProd` is multiplying numbers that get larger and larger, this calculation will take a few seconds."
   ]
  },
  {
   "cell_type": "markdown",
   "metadata": {},
   "source": [
    "### `time.sleep()`\n",
    "\n",
    "This function takes as an argument the number of seconds you want the program to **pause**."
   ]
  },
  {
   "cell_type": "code",
   "execution_count": 8,
   "metadata": {},
   "outputs": [],
   "source": [
    "time.sleep(5)"
   ]
  },
  {
   "cell_type": "markdown",
   "metadata": {},
   "source": [
    "We know that the program has paused, because of the star symbol showing in the `In [*]` label, which shows that the Jupyter kernel is busy."
   ]
  },
  {
   "cell_type": "code",
   "execution_count": 9,
   "metadata": {},
   "outputs": [
    {
     "name": "stdout",
     "output_type": "stream",
     "text": [
      "Tick\n",
      "Tock\n",
      "Tick\n",
      "Tock\n",
      "Tick\n",
      "Tock\n"
     ]
    }
   ],
   "source": [
    "for i in range(3):\n",
    "    print('Tick')\n",
    "    time.sleep(1)\n",
    "    print('Tock')\n",
    "    time.sleep(1)"
   ]
  },
  {
   "cell_type": "markdown",
   "metadata": {},
   "source": [
    "What else does this module have to offer? We can always use the function `dir` to learn more:"
   ]
  },
  {
   "cell_type": "code",
   "execution_count": 10,
   "metadata": {},
   "outputs": [
    {
     "name": "stdout",
     "output_type": "stream",
     "text": [
      "['_STRUCT_TM_ITEMS', '__doc__', '__loader__', '__name__', '__package__', '__spec__', 'altzone', 'asctime', 'ctime', 'daylight', 'get_clock_info', 'gmtime', 'localtime', 'mktime', 'monotonic', 'monotonic_ns', 'perf_counter', 'perf_counter_ns', 'process_time', 'process_time_ns', 'sleep', 'strftime', 'strptime', 'struct_time', 'thread_time', 'thread_time_ns', 'time', 'time_ns', 'timezone', 'tzname']\n"
     ]
    }
   ],
   "source": [
    "print(dir(time))"
   ]
  },
  {
   "cell_type": "markdown",
   "metadata": {},
   "source": [
    "Let's look at some of the properties and functions:"
   ]
  },
  {
   "cell_type": "code",
   "execution_count": 11,
   "metadata": {},
   "outputs": [
    {
     "data": {
      "text/plain": [
       "18000"
      ]
     },
     "execution_count": 11,
     "metadata": {},
     "output_type": "execute_result"
    }
   ],
   "source": [
    "time.timezone"
   ]
  },
  {
   "cell_type": "markdown",
   "metadata": {},
   "source": [
    "The timezone is the number of seconds from the UTC (Coordinated Universal Time). Boston in the UTC-5:00 time zone, which corresponds to 18000 seconds."
   ]
  },
  {
   "cell_type": "code",
   "execution_count": 12,
   "metadata": {},
   "outputs": [
    {
     "data": {
      "text/plain": [
       "time.struct_time(tm_year=2024, tm_mon=2, tm_mday=21, tm_hour=1, tm_min=58, tm_sec=40, tm_wday=2, tm_yday=52, tm_isdst=0)"
      ]
     },
     "execution_count": 12,
     "metadata": {},
     "output_type": "execute_result"
    }
   ],
   "source": [
    "time.gmtime()"
   ]
  },
  {
   "cell_type": "markdown",
   "metadata": {},
   "source": [
    "The `gmtime` refers to Greenwich Mean Time (GMT). The result is a datastructure that contains each part of the datetime in a separate attribute.\n",
    "\n",
    "We can look at the details of this data structure by calling `help` on it:"
   ]
  },
  {
   "cell_type": "code",
   "execution_count": 13,
   "metadata": {},
   "outputs": [
    {
     "name": "stdout",
     "output_type": "stream",
     "text": [
      "Help on class struct_time in module time:\n",
      "\n",
      "class struct_time(builtins.tuple)\n",
      " |  struct_time(iterable=(), /)\n",
      " |  \n",
      " |  The time value as returned by gmtime(), localtime(), and strptime(), and\n",
      " |  accepted by asctime(), mktime() and strftime().  May be considered as a\n",
      " |  sequence of 9 integers.\n",
      " |  \n",
      " |  Note that several fields' values are not the same as those defined by\n",
      " |  the C language standard for struct tm.  For example, the value of the\n",
      " |  field tm_year is the actual year, not year - 1900.  See individual\n",
      " |  fields' descriptions for details.\n",
      " |  \n",
      " |  Method resolution order:\n",
      " |      struct_time\n",
      " |      builtins.tuple\n",
      " |      builtins.object\n",
      " |  \n",
      " |  Methods defined here:\n",
      " |  \n",
      " |  __reduce__(...)\n",
      " |      Helper for pickle.\n",
      " |  \n",
      " |  __repr__(self, /)\n",
      " |      Return repr(self).\n",
      " |  \n",
      " |  ----------------------------------------------------------------------\n",
      " |  Static methods defined here:\n",
      " |  \n",
      " |  __new__(*args, **kwargs) from builtins.type\n",
      " |      Create and return a new object.  See help(type) for accurate signature.\n",
      " |  \n",
      " |  ----------------------------------------------------------------------\n",
      " |  Data descriptors defined here:\n",
      " |  \n",
      " |  tm_gmtoff\n",
      " |      offset from UTC in seconds\n",
      " |  \n",
      " |  tm_hour\n",
      " |      hours, range [0, 23]\n",
      " |  \n",
      " |  tm_isdst\n",
      " |      1 if summer time is in effect, 0 if not, and -1 if unknown\n",
      " |  \n",
      " |  tm_mday\n",
      " |      day of month, range [1, 31]\n",
      " |  \n",
      " |  tm_min\n",
      " |      minutes, range [0, 59]\n",
      " |  \n",
      " |  tm_mon\n",
      " |      month of year, range [1, 12]\n",
      " |  \n",
      " |  tm_sec\n",
      " |      seconds, range [0, 61])\n",
      " |  \n",
      " |  tm_wday\n",
      " |      day of week, range [0, 6], Monday is 0\n",
      " |  \n",
      " |  tm_yday\n",
      " |      day of year, range [1, 366]\n",
      " |  \n",
      " |  tm_year\n",
      " |      year, for example, 1993\n",
      " |  \n",
      " |  tm_zone\n",
      " |      abbreviation of timezone name\n",
      " |  \n",
      " |  ----------------------------------------------------------------------\n",
      " |  Data and other attributes defined here:\n",
      " |  \n",
      " |  __match_args__ = ('tm_year', 'tm_mon', 'tm_mday', 'tm_hour', 'tm_min',...\n",
      " |  \n",
      " |  n_fields = 11\n",
      " |  \n",
      " |  n_sequence_fields = 9\n",
      " |  \n",
      " |  n_unnamed_fields = 0\n",
      " |  \n",
      " |  ----------------------------------------------------------------------\n",
      " |  Methods inherited from builtins.tuple:\n",
      " |  \n",
      " |  __add__(self, value, /)\n",
      " |      Return self+value.\n",
      " |  \n",
      " |  __contains__(self, key, /)\n",
      " |      Return key in self.\n",
      " |  \n",
      " |  __eq__(self, value, /)\n",
      " |      Return self==value.\n",
      " |  \n",
      " |  __ge__(self, value, /)\n",
      " |      Return self>=value.\n",
      " |  \n",
      " |  __getattribute__(self, name, /)\n",
      " |      Return getattr(self, name).\n",
      " |  \n",
      " |  __getitem__(self, key, /)\n",
      " |      Return self[key].\n",
      " |  \n",
      " |  __getnewargs__(self, /)\n",
      " |  \n",
      " |  __gt__(self, value, /)\n",
      " |      Return self>value.\n",
      " |  \n",
      " |  __hash__(self, /)\n",
      " |      Return hash(self).\n",
      " |  \n",
      " |  __iter__(self, /)\n",
      " |      Implement iter(self).\n",
      " |  \n",
      " |  __le__(self, value, /)\n",
      " |      Return self<=value.\n",
      " |  \n",
      " |  __len__(self, /)\n",
      " |      Return len(self).\n",
      " |  \n",
      " |  __lt__(self, value, /)\n",
      " |      Return self<value.\n",
      " |  \n",
      " |  __mul__(self, value, /)\n",
      " |      Return self*value.\n",
      " |  \n",
      " |  __ne__(self, value, /)\n",
      " |      Return self!=value.\n",
      " |  \n",
      " |  __rmul__(self, value, /)\n",
      " |      Return value*self.\n",
      " |  \n",
      " |  count(self, value, /)\n",
      " |      Return number of occurrences of value.\n",
      " |  \n",
      " |  index(self, value, start=0, stop=9223372036854775807, /)\n",
      " |      Return first index of value.\n",
      " |      \n",
      " |      Raises ValueError if the value is not present.\n",
      " |  \n",
      " |  ----------------------------------------------------------------------\n",
      " |  Class methods inherited from builtins.tuple:\n",
      " |  \n",
      " |  __class_getitem__(...) from builtins.type\n",
      " |      See PEP 585\n",
      "\n"
     ]
    }
   ],
   "source": [
    "help(time.struct_time)"
   ]
  },
  {
   "cell_type": "markdown",
   "metadata": {},
   "source": [
    "<a id=\"sec3\"></a>"
   ]
  },
  {
   "cell_type": "markdown",
   "metadata": {},
   "source": [
    "## 3. The `datetime` module\n",
    "\n",
    "The `time` module has some good functions, but it's very hard to work with when it comes to date operations. For that purpose, we use the `datetime` module."
   ]
  },
  {
   "cell_type": "code",
   "execution_count": 14,
   "metadata": {},
   "outputs": [
    {
     "data": {
      "text/plain": [
       "datetime.datetime(2024, 2, 20, 20, 58, 44, 179899)"
      ]
     },
     "execution_count": 14,
     "metadata": {},
     "output_type": "execute_result"
    }
   ],
   "source": [
    "import datetime\n",
    "datetime.datetime.now()"
   ]
  },
  {
   "cell_type": "markdown",
   "metadata": {},
   "source": [
    "What's happening in the above piece of code is the following:\n",
    "\n",
    "1. `datetime` is a package (or module) that contains several classes\n",
    "2. `datetime` is a class in the module `datetime`, and creates objects of the type `datetime`\n",
    "3. `now()` is a method of the class `datetime` that tells the datetime at the current moment in time"
   ]
  },
  {
   "cell_type": "code",
   "execution_count": 15,
   "metadata": {},
   "outputs": [
    {
     "data": {
      "text/plain": [
       "module"
      ]
     },
     "execution_count": 15,
     "metadata": {},
     "output_type": "execute_result"
    }
   ],
   "source": [
    "type(datetime)"
   ]
  },
  {
   "cell_type": "code",
   "execution_count": 16,
   "metadata": {},
   "outputs": [
    {
     "data": {
      "text/plain": [
       "type"
      ]
     },
     "execution_count": 16,
     "metadata": {},
     "output_type": "execute_result"
    }
   ],
   "source": [
    "type(datetime.datetime)"
   ]
  },
  {
   "cell_type": "code",
   "execution_count": 17,
   "metadata": {},
   "outputs": [
    {
     "data": {
      "text/plain": [
       "builtin_function_or_method"
      ]
     },
     "execution_count": 17,
     "metadata": {},
     "output_type": "execute_result"
    }
   ],
   "source": [
    "type(datetime.datetime.now)"
   ]
  },
  {
   "cell_type": "markdown",
   "metadata": {},
   "source": [
    "The `datetime` module has several classes, which we can list by using the built-in function `dir`:"
   ]
  },
  {
   "cell_type": "code",
   "execution_count": 18,
   "metadata": {},
   "outputs": [
    {
     "data": {
      "text/plain": [
       "['MAXYEAR',\n",
       " 'MINYEAR',\n",
       " '__all__',\n",
       " '__builtins__',\n",
       " '__cached__',\n",
       " '__doc__',\n",
       " '__file__',\n",
       " '__loader__',\n",
       " '__name__',\n",
       " '__package__',\n",
       " '__spec__',\n",
       " 'date',\n",
       " 'datetime',\n",
       " 'datetime_CAPI',\n",
       " 'sys',\n",
       " 'time',\n",
       " 'timedelta',\n",
       " 'timezone',\n",
       " 'tzinfo']"
      ]
     },
     "execution_count": 18,
     "metadata": {},
     "output_type": "execute_result"
    }
   ],
   "source": [
    "dir(datetime)"
   ]
  },
  {
   "cell_type": "markdown",
   "metadata": {},
   "source": [
    "### Creating `datetime` objects\n",
    "\n",
    "We can call the constructor of the class `datetime` (it's the same as the class) with a list of arguments to create `datetime` objects.\n",
    "\n",
    "**Example 1:** Create a new object by only providing the values for year, month, and date:"
   ]
  },
  {
   "cell_type": "code",
   "execution_count": 68,
   "metadata": {},
   "outputs": [
    {
     "data": {
      "text/plain": [
       "datetime.datetime(2022, 9, 21, 0, 0)"
      ]
     },
     "execution_count": 68,
     "metadata": {},
     "output_type": "execute_result"
    }
   ],
   "source": [
    "datetime.datetime(2022, 9, 21)"
   ]
  },
  {
   "cell_type": "markdown",
   "metadata": {},
   "source": [
    "**Example 2:** Create a new object by providing hour and minutes and seconds too:"
   ]
  },
  {
   "cell_type": "code",
   "execution_count": 69,
   "metadata": {},
   "outputs": [
    {
     "data": {
      "text/plain": [
       "datetime.datetime(2022, 9, 21, 10, 15, 47)"
      ]
     },
     "execution_count": 69,
     "metadata": {},
     "output_type": "execute_result"
    }
   ],
   "source": [
    "datetime.datetime(2022, 9, 21, 10, 15, 47)"
   ]
  },
  {
   "cell_type": "markdown",
   "metadata": {},
   "source": [
    "Once we have a `datetime` object (either by invoking `now` or the datetime constructor), we can access all the part of the datetime as instance attributes:"
   ]
  },
  {
   "cell_type": "code",
   "execution_count": 70,
   "metadata": {},
   "outputs": [
    {
     "name": "stdout",
     "output_type": "stream",
     "text": [
      "year: 2024\n",
      "month: 2\n",
      "day: 6\n",
      "hour: 15\n",
      "minute: 41\n",
      "second: 48\n"
     ]
    }
   ],
   "source": [
    "dt = datetime.datetime.now()\n",
    "print(\"year:\", dt.year)\n",
    "print(\"month:\", dt.month)\n",
    "print(\"day:\", dt.day)\n",
    "print(\"hour:\", dt.hour)\n",
    "print(\"minute:\", dt.minute)\n",
    "print(\"second:\", dt.second)"
   ]
  },
  {
   "cell_type": "markdown",
   "metadata": {},
   "source": [
    "### From Unix epoch to datetime\n",
    "\n",
    "The function `time.time()` returned the number seconds since the Unix epoch (Jan 1, 1970, 12AM, UTC). The Unix epoch time is often how time is stored in a system (because it's more efficient to store and the calculations with an integer are faster). Thus, `datetime.datetime` had a method to convert from Unix epoch to `datetime` object."
   ]
  },
  {
   "cell_type": "code",
   "execution_count": 19,
   "metadata": {},
   "outputs": [
    {
     "data": {
      "text/plain": [
       "datetime.datetime(1969, 12, 31, 21, 46, 40)"
      ]
     },
     "execution_count": 19,
     "metadata": {},
     "output_type": "execute_result"
    }
   ],
   "source": [
    "datetime.datetime.fromtimestamp(10000) # 10000 seconds after Unix epoch"
   ]
  },
  {
   "cell_type": "markdown",
   "metadata": {},
   "source": [
    "**Question:** What happened? Can you explain this result?  \n",
    "\n",
    "**Answer:**"
   ]
  },
  {
   "cell_type": "markdown",
   "metadata": {},
   "source": [
    "We can pass the function `time.time()` directly to the method `.fromtimestamp()` to craete the datetime object:"
   ]
  },
  {
   "cell_type": "code",
   "execution_count": 20,
   "metadata": {},
   "outputs": [
    {
     "data": {
      "text/plain": [
       "datetime.datetime(2024, 2, 20, 20, 59, 5, 9184)"
      ]
     },
     "execution_count": 20,
     "metadata": {},
     "output_type": "execute_result"
    }
   ],
   "source": [
    "datetime.datetime.fromtimestamp(time.time())"
   ]
  },
  {
   "cell_type": "markdown",
   "metadata": {},
   "source": [
    "The last number you see is that of **microseconds**. There are 1 million microseconds in a second."
   ]
  },
  {
   "cell_type": "markdown",
   "metadata": {},
   "source": [
    "### Comparing dates\n",
    "One of the best reasons for using `datetime` objects is that it makes the comparison of dates really easy (comparing string representation of dates is offen full of mistakes). Here are some examples:"
   ]
  },
  {
   "cell_type": "code",
   "execution_count": 33,
   "metadata": {},
   "outputs": [],
   "source": [
    "halloween = datetime.datetime(2022, 10, 31)\n",
    "thanksgiving = datetime.datetime(2022, 11, 24)\n",
    "newYear = datetime.datetime(2023, 1, 1)"
   ]
  },
  {
   "cell_type": "code",
   "execution_count": 34,
   "metadata": {},
   "outputs": [
    {
     "data": {
      "text/plain": [
       "False"
      ]
     },
     "execution_count": 34,
     "metadata": {},
     "output_type": "execute_result"
    }
   ],
   "source": [
    "halloween > newYear"
   ]
  },
  {
   "cell_type": "code",
   "execution_count": 35,
   "metadata": {},
   "outputs": [
    {
     "data": {
      "text/plain": [
       "True"
      ]
     },
     "execution_count": 35,
     "metadata": {},
     "output_type": "execute_result"
    }
   ],
   "source": [
    "thanksgiving > halloween"
   ]
  },
  {
   "cell_type": "markdown",
   "metadata": {},
   "source": [
    "<a id=\"sec4\"></a>"
   ]
  },
  {
   "cell_type": "markdown",
   "metadata": {},
   "source": [
    "## 4. The `timedelta` class\n",
    "\n",
    "The module `datetime`, in addition to the `datetime` class that creates moments in time, has also the class `timedelta`, which manipulates \"time durations\".  \n",
    "In the following, it is shown how to:\n",
    "\n",
    "- create a new `timedelta` instance by calling the class constructor\n",
    "- perform arithmetic operations with datetime objects:\n",
    "    - add or subtract an interval (timedelta instance) to an existing datetime instance\n",
    "    - subtract two `datetime` objects to get as a result a `timedelta` object\n",
    "    \n",
    "We pass to the constructor named parameters for weeks, days, hours, minutes, seconds, milliseconds, and microseconds. "
   ]
  },
  {
   "cell_type": "code",
   "execution_count": 21,
   "metadata": {},
   "outputs": [
    {
     "data": {
      "text/plain": [
       "25"
      ]
     },
     "execution_count": 21,
     "metadata": {},
     "output_type": "execute_result"
    }
   ],
   "source": [
    "obj1 = datetime.timedelta(weeks=3, days=4)\n",
    "obj1.days"
   ]
  },
  {
   "cell_type": "code",
   "execution_count": 22,
   "metadata": {},
   "outputs": [
    {
     "data": {
      "text/plain": [
       "datetime.timedelta(days=32, seconds=14664)"
      ]
     },
     "execution_count": 22,
     "metadata": {},
     "output_type": "execute_result"
    }
   ],
   "source": [
    "obj2 = datetime.timedelta(weeks=4, days=4, hours=4, minutes=4, seconds=24)\n",
    "obj2"
   ]
  },
  {
   "cell_type": "markdown",
   "metadata": {},
   "source": [
    "Once we have a `timedelta` object, we can only retrieve the number of seconds or that of the days from it:"
   ]
  },
  {
   "cell_type": "code",
   "execution_count": 23,
   "metadata": {},
   "outputs": [
    {
     "name": "stdout",
     "output_type": "stream",
     "text": [
      "32 14664\n"
     ]
    }
   ],
   "source": [
    "print(obj2.days, obj2.seconds)"
   ]
  },
  {
   "cell_type": "markdown",
   "metadata": {},
   "source": [
    "But, we can also get the total number of seconds:"
   ]
  },
  {
   "cell_type": "code",
   "execution_count": 24,
   "metadata": {},
   "outputs": [
    {
     "data": {
      "text/plain": [
       "2779464.0"
      ]
     },
     "execution_count": 24,
     "metadata": {},
     "output_type": "execute_result"
    }
   ],
   "source": [
    "obj2.total_seconds()"
   ]
  },
  {
   "cell_type": "markdown",
   "metadata": {},
   "source": [
    "To make the output of a timedelta value readable, we pass it to the function `str`:"
   ]
  },
  {
   "cell_type": "code",
   "execution_count": 25,
   "metadata": {},
   "outputs": [
    {
     "data": {
      "text/plain": [
       "'32 days, 4:04:24'"
      ]
     },
     "execution_count": 25,
     "metadata": {},
     "output_type": "execute_result"
    }
   ],
   "source": [
    "str(obj2)"
   ]
  },
  {
   "cell_type": "markdown",
   "metadata": {},
   "source": [
    "<a id=\"sec5\"></a>"
   ]
  },
  {
   "cell_type": "markdown",
   "metadata": {},
   "source": [
    "## 5. Arithmetic with `datetime` objects\n",
    "If we have a `datetime.datetime` object, we can find another date in the past or the future by subtracting/adding a `timedelta` object."
   ]
  },
  {
   "cell_type": "code",
   "execution_count": 26,
   "metadata": {},
   "outputs": [
    {
     "name": "stdout",
     "output_type": "stream",
     "text": [
      "2024-03-21 21:00:34.385377\n"
     ]
    }
   ],
   "source": [
    "now = datetime.datetime.now()\n",
    "thirtyDays = datetime.timedelta(days=30)\n",
    "\n",
    "future = now + thirtyDays\n",
    "print(future)"
   ]
  },
  {
   "cell_type": "code",
   "execution_count": 27,
   "metadata": {},
   "outputs": [
    {
     "name": "stdout",
     "output_type": "stream",
     "text": [
      "2024-01-21 21:00:34.385377\n"
     ]
    }
   ],
   "source": [
    "past = now - thirtyDays\n",
    "print(past)"
   ]
  },
  {
   "cell_type": "markdown",
   "metadata": {},
   "source": [
    "The great thing about using such operations is that we don't have to care about leap years, different number of days in a month, etc.  All the arithmetic of dates is taken care by these two classes.\n",
    "\n",
    "`timedelta` objects can also appear in multiplications and divisions:"
   ]
  },
  {
   "cell_type": "code",
   "execution_count": 28,
   "metadata": {},
   "outputs": [
    {
     "name": "stdout",
     "output_type": "stream",
     "text": [
      "730 days, 0:00:00\n"
     ]
    }
   ],
   "source": [
    "oneYear = datetime.timedelta(days=365)\n",
    "twoYears = 2 * oneYear\n",
    "print(twoYears)"
   ]
  },
  {
   "cell_type": "code",
   "execution_count": 29,
   "metadata": {},
   "outputs": [
    {
     "name": "stdout",
     "output_type": "stream",
     "text": [
      "182 days, 12:00:00\n"
     ]
    }
   ],
   "source": [
    "halfYear = oneYear/2\n",
    "print(halfYear)"
   ]
  },
  {
   "cell_type": "markdown",
   "metadata": {},
   "source": [
    "### Subtracting two datetime objects creates a timedelta object"
   ]
  },
  {
   "cell_type": "code",
   "execution_count": 36,
   "metadata": {},
   "outputs": [
    {
     "data": {
      "text/plain": [
       "datetime.timedelta(days=24)"
      ]
     },
     "execution_count": 36,
     "metadata": {},
     "output_type": "execute_result"
    }
   ],
   "source": [
    "thanksgiving - halloween"
   ]
  },
  {
   "cell_type": "code",
   "execution_count": 37,
   "metadata": {},
   "outputs": [
    {
     "data": {
      "text/plain": [
       "datetime.timedelta(days=38)"
      ]
     },
     "execution_count": 37,
     "metadata": {},
     "output_type": "execute_result"
    }
   ],
   "source": [
    "newYear - thanksgiving"
   ]
  },
  {
   "cell_type": "markdown",
   "metadata": {},
   "source": [
    "**Note:** While it makes sense to subtract two dates to find the interval between them, there is no meaning in adding two datetime objects.  If you try it, you'll get an error."
   ]
  },
  {
   "cell_type": "code",
   "execution_count": 38,
   "metadata": {},
   "outputs": [
    {
     "ename": "TypeError",
     "evalue": "unsupported operand type(s) for +: 'datetime.datetime' and 'datetime.datetime'",
     "output_type": "error",
     "traceback": [
      "\u001b[1;31m---------------------------------------------------------------------------\u001b[0m",
      "\u001b[1;31mTypeError\u001b[0m                                 Traceback (most recent call last)",
      "Cell \u001b[1;32mIn[38], line 1\u001b[0m\n\u001b[1;32m----> 1\u001b[0m \u001b[43mnewYear\u001b[49m\u001b[43m \u001b[49m\u001b[38;5;241;43m+\u001b[39;49m\u001b[43m \u001b[49m\u001b[43mhalloween\u001b[49m\n",
      "\u001b[1;31mTypeError\u001b[0m: unsupported operand type(s) for +: 'datetime.datetime' and 'datetime.datetime'"
     ]
    }
   ],
   "source": [
    "newYear + halloween"
   ]
  },
  {
   "cell_type": "markdown",
   "metadata": {},
   "source": [
    "<a id=\"sec6\"></a>"
   ]
  },
  {
   "cell_type": "markdown",
   "metadata": {},
   "source": [
    "## 6. From `datetime` to string\n",
    "\n",
    "The method `strftime` will be used to format a datetime object as a string, by making use of string formatting directives, a list of which with their meaning is shown in the table below:"
   ]
  },
  {
   "cell_type": "markdown",
   "metadata": {},
   "source": [
    "| directive |                      meaning                      |\n",
    "|:---------:|:-------------------------------------------------:|\n",
    "| %Y        | Year with century, as in '2014'                   |\n",
    "| %y        | Year without century, '00' to '99' (1970 to 2069) |\n",
    "| %m        | Month as a decimal number, '01' to '12'           |\n",
    "| %B        | Full month name, as in 'November'                 |\n",
    "| %b        | Abbreviated month name, as in 'Nov'               |\n",
    "| %d        | Day of the month, '01' to '31'                    |\n",
    "| %j        | Day of the year, '001' to '366'                   |\n",
    "| %w        | Day of the week, '0' (Sunday) to '6' (Saturday)   |\n",
    "| %A        | Full weekday name, as in 'Monday'                 |\n",
    "| %a        | Abbreviated weekday name, as in 'Mon'             |\n",
    "| %H        | Hour (24-hour clock), '00' to '23'                |\n",
    "| %I        | Hour (12-hour clock), '01' to '12'                |\n",
    "| %M        | Minute, '00' to '59'                              |\n",
    "| %S        | Second, '00' to '59'                              |\n",
    "| %p        | 'AM' or 'PM'                                      |"
   ]
  },
  {
   "cell_type": "markdown",
   "metadata": {},
   "source": [
    "Let's see some examples with different formatting strings:"
   ]
  },
  {
   "cell_type": "code",
   "execution_count": 39,
   "metadata": {},
   "outputs": [
    {
     "data": {
      "text/plain": [
       "datetime.datetime(2024, 2, 20, 21, 2, 23, 588510)"
      ]
     },
     "execution_count": 39,
     "metadata": {},
     "output_type": "execute_result"
    }
   ],
   "source": [
    "now = datetime.datetime.now()\n",
    "now"
   ]
  },
  {
   "cell_type": "code",
   "execution_count": 40,
   "metadata": {},
   "outputs": [
    {
     "name": "stdout",
     "output_type": "stream",
     "text": [
      "It's February '24\n"
     ]
    }
   ],
   "source": [
    "print(now.strftime(\"It's %B '%y\"))"
   ]
  },
  {
   "cell_type": "markdown",
   "metadata": {},
   "source": [
    "**Explanation:** You provide a template string with some slots (or holes), which are represented with the directives that consists of the `%` character and one letter from the table above. The instance variable values for the object `now` are inserted in the \"holes\" of the templates.  \n",
    "Each of the directives specifies which instance variable goes where."
   ]
  },
  {
   "cell_type": "code",
   "execution_count": 41,
   "metadata": {},
   "outputs": [
    {
     "name": "stdout",
     "output_type": "stream",
     "text": [
      "Today is Tuesday, 2024/02/20.\n"
     ]
    }
   ],
   "source": [
    "print(now.strftime(\"Today is %A, %Y/%m/%d.\"))"
   ]
  },
  {
   "cell_type": "code",
   "execution_count": 42,
   "metadata": {},
   "outputs": [
    {
     "name": "stdout",
     "output_type": "stream",
     "text": [
      "The time is 09:02 PM\n"
     ]
    }
   ],
   "source": [
    "print(now.strftime('The time is %I:%M %p'))"
   ]
  },
  {
   "cell_type": "code",
   "execution_count": 43,
   "metadata": {},
   "outputs": [
    {
     "name": "stdout",
     "output_type": "stream",
     "text": [
      "2024/02/20 21:02:23\n"
     ]
    }
   ],
   "source": [
    "print(now.strftime('%Y/%m/%d %H:%M:%S'))"
   ]
  },
  {
   "cell_type": "markdown",
   "metadata": {},
   "source": [
    "### Exercise 1: String conversion\n",
    "\n",
    "Write the expression that use `datetime` string directives that will create the following text:\n",
    "\n",
    "   `Today is Thu, the 14th of Oct '21 and the 287th day of the year 2021.`\n",
    "   \n",
    "Your day doesn't need to be Oct 14, it can be whatever the current day is. Thus, the number of the day of the year will also be different from 287.\n",
    "\n",
    "**Hint:** Use the table of directives above to figure out what directives to include."
   ]
  },
  {
   "cell_type": "code",
   "execution_count": null,
   "metadata": {},
   "outputs": [],
   "source": [
    "# write your code here\n"
   ]
  },
  {
   "cell_type": "markdown",
   "metadata": {},
   "source": [
    "<a id=\"sec7\"></a>"
   ]
  },
  {
   "cell_type": "markdown",
   "metadata": {},
   "source": [
    "## 7. From string to `datetime`\n",
    "\n",
    "Very often we will encounter the opposite problem: read a text value from a file which needs to be represented internally as a datetime object.  \n",
    "This process is known as parsing and is performed by the method `.strptime()`. This method takes two parameters:\n",
    "\n",
    "1. the string to be parsed\n",
    "2. the custom format string (that indicates the meaning of the components in the string)\n",
    "\n",
    "For example, the string `'October 14, 2021'`, is presented by the format string `'%B %d, %Y'`."
   ]
  },
  {
   "cell_type": "code",
   "execution_count": null,
   "metadata": {},
   "outputs": [],
   "source": [
    "datetime.datetime.strptime('October 14, 2021', '%B %d, %Y')"
   ]
  },
  {
   "cell_type": "code",
   "execution_count": null,
   "metadata": {},
   "outputs": [],
   "source": [
    "datetime.datetime.strptime('2019/10/14 7:34 PM', '%Y/%m/%d %I:%M %p')"
   ]
  },
  {
   "cell_type": "markdown",
   "metadata": {},
   "source": [
    "### Be careful with some conversions"
   ]
  },
  {
   "cell_type": "markdown",
   "metadata": {},
   "source": [
    "Let's try to parse this date that shows up in emails opened within Gmail (if you click the option \"Show original\"):\n",
    "\n",
    "```\n",
    "Wed, 13 Oct 2021 14:56:46 -0700 (PDT)\n",
    "```\n",
    "\n",
    "This date contains **timezone** information, and according to the docs, there are two directives to handle them: `'%z'` and `'%Z'`.\n",
    "\n",
    "**ERROR:** However, it turns out that %z and %Z are platform-specific (that is, they don't work on all computers).\n",
    "\n",
    "This is what the Python documentation says:\n",
    "\n",
    "    The full set of format codes supported varies across platforms, because Python calls the platform C library’s strftime() function, and platform variations are common. "
   ]
  },
  {
   "cell_type": "code",
   "execution_count": null,
   "metadata": {},
   "outputs": [],
   "source": [
    "date = \"Wed, 13 Oct 2021 14:56:46 -0070 (PDT)\"\n",
    "datetime.datetime.strptime(date, \"%a, %d %b %Y %H:%M:%S %z (%Z)\")"
   ]
  },
  {
   "cell_type": "markdown",
   "metadata": {},
   "source": [
    "**Note:** We'll overcome this error by using the module `dateutil`, see next Section."
   ]
  },
  {
   "cell_type": "markdown",
   "metadata": {},
   "source": [
    "### Exercise 2: Date conversion\n",
    "\n",
    "Here is how timestamps show up in Wikipedia edit lists:\n",
    "\n",
    "    08:59, 20 September 2022\n",
    "    \n",
    "Write a statement to convert this string into a datetime object."
   ]
  },
  {
   "cell_type": "code",
   "execution_count": null,
   "metadata": {},
   "outputs": [],
   "source": [
    "# your code here\n"
   ]
  },
  {
   "cell_type": "markdown",
   "metadata": {},
   "source": [
    "### `strftime` versus `strptime`\n",
    "\n",
    "We discussed two methods in the past two sections. These methods have very similar names, but different signatures.\n",
    "\n",
    "1. `now.strftime('%Y/%m/%d %H:%M:%S')` => Format a date object as a string, given the string format\n",
    "2. `datetime.datetime.strptime('October 14, 2021', '%B %d, %Y')` => Parse a string into a date object\n",
    "\n",
    "The letters **f** and **p** in the names of the function stand for the words: format and parse.\n"
   ]
  },
  {
   "cell_type": "markdown",
   "metadata": {},
   "source": [
    "<a id=\"sec8\"></a>"
   ]
  },
  {
   "cell_type": "markdown",
   "metadata": {},
   "source": [
    "## 8. The `dateutil` module\n",
    "\n",
    "To deal with the issue of the timezone implementation, we'll use a new library.  \n",
    "\n",
    "* try `import dateutil`. If you get an error install it by: `pip install dateutil` inside the notebook."
   ]
  },
  {
   "cell_type": "code",
   "execution_count": 74,
   "metadata": {},
   "outputs": [],
   "source": [
    "import dateutil"
   ]
  },
  {
   "cell_type": "code",
   "execution_count": 75,
   "metadata": {},
   "outputs": [
    {
     "data": {
      "text/plain": [
       "datetime.datetime(2021, 10, 13, 14, 56, 46, tzinfo=tzoffset('PDT', -4200))"
      ]
     },
     "execution_count": 75,
     "metadata": {},
     "output_type": "execute_result"
    }
   ],
   "source": [
    "from dateutil import parser\n",
    "date = \"Wed, 13 Oct 2021 14:56:46 -0070 (PDT)\"\n",
    "parser.parse(date)"
   ]
  },
  {
   "cell_type": "markdown",
   "metadata": {},
   "source": [
    "Here is another example of a date, that is the one used by the `mbox` Python module that allows us to work with an inbox of emails (if we download our inbox)."
   ]
  },
  {
   "cell_type": "code",
   "execution_count": null,
   "metadata": {},
   "outputs": [],
   "source": [
    "date = \"Mon Oct 11 11:11:06 +0000 2021\"\n",
    "parser.parse(date)"
   ]
  },
  {
   "cell_type": "markdown",
   "metadata": {},
   "source": [
    "**Note:** As you can see the value of the `dateutil` parser is to make away with having to write string directives for the conversion. But, it doesn't always work, thus, it's good to know about `datetime` too.\n",
    "\n",
    "Knowing about `datetime` is also important because `dateutil` creates a `datetime` object, and all arithmetic with dates is via `datetime` methods."
   ]
  },
  {
   "cell_type": "markdown",
   "metadata": {},
   "source": [
    "<a id=\"sec9\"></a>\n",
    "## 9. Solutions\n",
    "\n",
    "**Section 3 - Question on Unix Epochs**  \n",
    "How to explain `datetime.datetime(1969, 12, 31, 21, 46, 40)`?  \n",
    "When it was Jan 1st, 00:00 in GMT (London), our local time was still Dec 31st 1969. This is why 10000 seconds into the 1970 year shows what was the datetime for us in Boston.\n",
    "\n",
    "\n",
    "**Section 6 - Exercise 1**\n",
    "```\n",
    "now.strftime(\"Today is %a, the %dth of %b '%y and the %jth day of the year %Y\")\n",
    "```\n",
    "\n",
    "**Section 7 - Exercise 2**\n",
    "```\n",
    "date = \"08:59, 20 September 2022\"\n",
    "datetime.datetime.strptime(date, \"%H:%M, %d %B %Y\")\n",
    "```"
   ]
  },
  {
   "cell_type": "code",
   "execution_count": null,
   "metadata": {},
   "outputs": [],
   "source": []
  }
 ],
 "metadata": {
  "kernelspec": {
   "display_name": "Python 3 (ipykernel)",
   "language": "python",
   "name": "python3"
  },
  "language_info": {
   "codemirror_mode": {
    "name": "ipython",
    "version": 3
   },
   "file_extension": ".py",
   "mimetype": "text/x-python",
   "name": "python",
   "nbconvert_exporter": "python",
   "pygments_lexer": "ipython3",
   "version": "3.10.10"
  }
 },
 "nbformat": 4,
 "nbformat_minor": 4
}
