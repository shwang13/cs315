{
 "cells": [
  {
   "cell_type": "markdown",
   "metadata": {
    "colab_type": "text",
    "id": "20TiIlo07wNK"
   },
   "source": [
    "# **Python Libraries - `requests`, `bs4`**\n",
    "\n",
    "**Author: Eni Mustafaraj**\n",
    "\n",
    "In this notebook I'll be showing you:\n",
    "\n",
    "1. how to use the `requests` package to download an HTML file\n",
    "2. how to install new packages directly from Jupyter\n",
    "3. how to use `bs4` (BeautifulSoup) to parse the content of a simple HTML file"
   ]
  },
  {
   "cell_type": "markdown",
   "metadata": {},
   "source": [
    "## Part 1: Using `requests`\n",
    "\n",
    "We humans use a web browser to read HTML pages on the Web. Everytime we visit a webpage, it is actually being transfered to our computer (and stored on our local drive). When we don't use a browser to visit websites, we can use libraries from a programming language to perform the same action as the browser.\n",
    "\n",
    "In Python, we will use `requests` to download files from your web folder."
   ]
  },
  {
   "cell_type": "code",
   "execution_count": 1,
   "metadata": {
    "colab": {},
    "colab_type": "code",
    "id": "OZqx8yi57tvd"
   },
   "outputs": [],
   "source": [
    "import requests"
   ]
  },
  {
   "cell_type": "markdown",
   "metadata": {
    "colab_type": "text",
    "id": "h0K_RQh2uDsE"
   },
   "source": [
    "Use the `get` method to send a request to the server for the desired file. Check that the response was received."
   ]
  },
  {
   "cell_type": "code",
   "execution_count": 2,
   "metadata": {
    "colab": {
     "base_uri": "https://localhost:8080/",
     "height": 35
    },
    "colab_type": "code",
    "id": "tFTW1Udpsi6q",
    "outputId": "0e5476e6-2ed8-4606-baec-c775ccff805b"
   },
   "outputs": [
    {
     "name": "stdout",
     "output_type": "stream",
     "text": [
      "200\n"
     ]
    }
   ],
   "source": [
    "response = requests.get(\"http://cs.wellesley.edu/~cs315/readings/index.html\")\n",
    "print(response.status_code)"
   ]
  },
  {
   "cell_type": "markdown",
   "metadata": {},
   "source": [
    "The variable response is an object, referring to an instance of a class defined in the library `requests`, we can verify this through the Python function `type`: "
   ]
  },
  {
   "cell_type": "code",
   "execution_count": 3,
   "metadata": {},
   "outputs": [
    {
     "data": {
      "text/plain": [
       "requests.models.Response"
      ]
     },
     "execution_count": 3,
     "metadata": {},
     "output_type": "execute_result"
    }
   ],
   "source": [
    "type(response)"
   ]
  },
  {
   "cell_type": "markdown",
   "metadata": {
    "colab_type": "text",
    "id": "tyQjWigbuRFu"
   },
   "source": [
    "We use `dir` to lookup the list of all attributed and methods for an object or class or library:"
   ]
  },
  {
   "cell_type": "code",
   "execution_count": 4,
   "metadata": {
    "colab": {
     "base_uri": "https://localhost:8080/",
     "height": 1000
    },
    "colab_type": "code",
    "id": "jJTaL-WBsqKI",
    "outputId": "e54dbbe8-23d9-413c-803f-e390ab5811d5"
   },
   "outputs": [
    {
     "name": "stdout",
     "output_type": "stream",
     "text": [
      "['__attrs__', '__bool__', '__class__', '__delattr__', '__dict__', '__dir__', '__doc__', '__enter__', '__eq__', '__exit__', '__format__', '__ge__', '__getattribute__', '__getstate__', '__gt__', '__hash__', '__init__', '__init_subclass__', '__iter__', '__le__', '__lt__', '__module__', '__ne__', '__new__', '__nonzero__', '__reduce__', '__reduce_ex__', '__repr__', '__setattr__', '__setstate__', '__sizeof__', '__str__', '__subclasshook__', '__weakref__', '_content', '_content_consumed', '_next', 'apparent_encoding', 'close', 'connection', 'content', 'cookies', 'elapsed', 'encoding', 'headers', 'history', 'is_permanent_redirect', 'is_redirect', 'iter_content', 'iter_lines', 'json', 'links', 'next', 'ok', 'raise_for_status', 'raw', 'reason', 'request', 'status_code', 'text', 'url']\n"
     ]
    }
   ],
   "source": [
    "print(dir(response))"
   ]
  },
  {
   "cell_type": "markdown",
   "metadata": {
    "colab_type": "text",
    "id": "PxWeGagAupBt"
   },
   "source": [
    "Look up the text of the response:"
   ]
  },
  {
   "cell_type": "code",
   "execution_count": 5,
   "metadata": {
    "colab": {
     "base_uri": "https://localhost:8080/",
     "height": 54
    },
    "colab_type": "code",
    "id": "T2Y8Gkk_sqvd",
    "outputId": "0189b8dc-9c78-470c-851d-a5a6b340593a"
   },
   "outputs": [
    {
     "data": {
      "text/plain": [
       "'https://cs.wellesley.edu/~cs315/readings/index.html'"
      ]
     },
     "execution_count": 5,
     "metadata": {},
     "output_type": "execute_result"
    }
   ],
   "source": [
    "response.url"
   ]
  },
  {
   "cell_type": "markdown",
   "metadata": {
    "colab_type": "text",
    "id": "1n1U7CFwvN64"
   },
   "source": [
    "Check if the desired phrase is in the response's content:"
   ]
  },
  {
   "cell_type": "code",
   "execution_count": 6,
   "metadata": {
    "colab": {
     "base_uri": "https://localhost:8080/",
     "height": 35
    },
    "colab_type": "code",
    "id": "jmJeLm8Lt311",
    "outputId": "84989d83-01c7-4f9b-e852-df3ebab36306"
   },
   "outputs": [
    {
     "data": {
      "text/plain": [
       "True"
      ]
     },
     "execution_count": 6,
     "metadata": {},
     "output_type": "execute_result"
    }
   ],
   "source": [
    "response.text.find(\"for protection\") != -1 \n",
    "\n",
    "# Why are we checking that the value of the expression on the left is different from -1?\n",
    "# Answer: Because the string method find return -1 when it doesn't find a substring in text"
   ]
  },
  {
   "cell_type": "markdown",
   "metadata": {
    "colab_type": "text",
    "id": "akFzDU5FvrIB"
   },
   "source": [
    "### Use case: checking your CS server accounts\n",
    "\n",
    "We will need first to get your accounts:"
   ]
  },
  {
   "cell_type": "code",
   "execution_count": 7,
   "metadata": {},
   "outputs": [
    {
     "name": "stdout",
     "output_type": "stream",
     "text": [
      "['cf104@wellesley.edu\\n', 'sg110@wellesley.edu\\n', 'mg107@wellesley.edu\\n', 'sh110@wellesley.edu\\n', 'cj104@wellesley.edu\\n', 'jk103@wellesley.edu\\n', 'sk112@wellesley.edu\\n', 'qk100@wellesley.edu\\n', 'hl105@wellesley.edu\\n', 'al118@wellesley.edu\\n', 'll111@wellesley.edu\\n', 'yl106@wellesley.edu\\n', 'ml112@wellesley.edu\\n', 'mm121@wellesley.edu\\n', 'jr109@wellesley.edu\\n', 'tr100@wellesley.edu\\n', 'ay106@wellesley.edu\\n', 'fy100@wellesley.edu']\n"
     ]
    }
   ],
   "source": [
    "with open('sec02.txt') as inputF:\n",
    "    lines = inputF.readlines()\n",
    "    \n",
    "print(lines)"
   ]
  },
  {
   "cell_type": "markdown",
   "metadata": {},
   "source": [
    "Clean up the list of accounts, using list comprehension:"
   ]
  },
  {
   "cell_type": "code",
   "execution_count": 8,
   "metadata": {},
   "outputs": [
    {
     "name": "stdout",
     "output_type": "stream",
     "text": [
      "['cf104', 'sg110', 'mg107', 'sh110', 'cj104', 'jk103', 'sk112', 'qk100', 'hl105', 'al118', 'll111', 'yl106', 'ml112', 'mm121', 'jr109', 'tr100', 'ay106', 'fy100']\n"
     ]
    }
   ],
   "source": [
    "accounts = [line.split('@')[0] for line in lines]\n",
    "print(accounts)"
   ]
  },
  {
   "cell_type": "markdown",
   "metadata": {},
   "source": [
    "Now that we have all your accounts, let's generate the URLs for them:"
   ]
  },
  {
   "cell_type": "code",
   "execution_count": 9,
   "metadata": {
    "colab": {
     "base_uri": "https://localhost:8080/",
     "height": 369
    },
    "colab_type": "code",
    "id": "thSgn0Cy8VQY",
    "outputId": "49ee8019-474b-4e79-ce52-c8598927ae37"
   },
   "outputs": [
    {
     "name": "stdout",
     "output_type": "stream",
     "text": [
      "http://cs.wellesley.edu/~cf104/index.html\n",
      "http://cs.wellesley.edu/~sg110/index.html\n",
      "http://cs.wellesley.edu/~mg107/index.html\n",
      "http://cs.wellesley.edu/~sh110/index.html\n",
      "http://cs.wellesley.edu/~cj104/index.html\n",
      "http://cs.wellesley.edu/~jk103/index.html\n",
      "http://cs.wellesley.edu/~sk112/index.html\n",
      "http://cs.wellesley.edu/~qk100/index.html\n",
      "http://cs.wellesley.edu/~hl105/index.html\n",
      "http://cs.wellesley.edu/~al118/index.html\n",
      "http://cs.wellesley.edu/~ll111/index.html\n",
      "http://cs.wellesley.edu/~yl106/index.html\n",
      "http://cs.wellesley.edu/~ml112/index.html\n",
      "http://cs.wellesley.edu/~mm121/index.html\n",
      "http://cs.wellesley.edu/~jr109/index.html\n",
      "http://cs.wellesley.edu/~tr100/index.html\n",
      "http://cs.wellesley.edu/~ay106/index.html\n",
      "http://cs.wellesley.edu/~fy100/index.html\n"
     ]
    }
   ],
   "source": [
    "# generate URLs for all accounts via list comprehension and the format string syntax\n",
    "\n",
    "urls = [f'http://cs.wellesley.edu/~{acc}/index.html' for acc in accounts]\n",
    "\n",
    "for el in urls:\n",
    "    print(el) "
   ]
  },
  {
   "cell_type": "markdown",
   "metadata": {},
   "source": [
    "We now will look up the text of each index.html file to check if it contains our desired phrase."
   ]
  },
  {
   "cell_type": "code",
   "execution_count": 10,
   "metadata": {
    "colab": {
     "base_uri": "https://localhost:8080/",
     "height": 369
    },
    "colab_type": "code",
    "id": "hg8F4BcJP9zy",
    "outputId": "571dcf10-28f5-475e-d063-ca963631ba9c"
   },
   "outputs": [
    {
     "name": "stdout",
     "output_type": "stream",
     "text": [
      "cf104 Didn't find phrase.\n",
      "sg110 ERROR Not Found\n",
      "mg107 SUCCESS\n",
      "sh110 Didn't find phrase.\n",
      "cj104 SUCCESS\n",
      "jk103 Didn't find phrase.\n",
      "sk112 ERROR Not Found\n",
      "qk100 SUCCESS\n",
      "hl105 Didn't find phrase.\n",
      "al118 SUCCESS\n",
      "ll111 ERROR Not Found\n",
      "yl106 SUCCESS\n",
      "ml112 SUCCESS\n",
      "mm121 SUCCESS\n",
      "jr109 ERROR Not Found\n",
      "tr100 Didn't find phrase.\n",
      "ay106 Didn't find phrase.\n",
      "fy100 SUCCESS\n"
     ]
    }
   ],
   "source": [
    "for acc in accounts:\n",
    "    url = f\"http://cs.wellesley.edu/~{acc}/index.html\"\n",
    "    response = requests.get(url)\n",
    "    if response.status_code == 200:\n",
    "        if response.text.find(\"for protection\") != -1:\n",
    "            print(acc, \"SUCCESS\")\n",
    "        else:\n",
    "            print(acc, \"Didn't find phrase.\")\n",
    "    else:\n",
    "        print(acc, \"ERROR\", response.reason)"
   ]
  },
  {
   "cell_type": "markdown",
   "metadata": {
    "colab": {},
    "colab_type": "code",
    "id": "Bvl6w08DwePs"
   },
   "source": [
    "## Part 2: Install a new package\n",
    "\n",
    "When our Python installation doesn't contain a package/module, we will get an error when importing it:"
   ]
  },
  {
   "cell_type": "code",
   "execution_count": 11,
   "metadata": {},
   "outputs": [],
   "source": [
    "import textblob"
   ]
  },
  {
   "cell_type": "markdown",
   "metadata": {},
   "source": [
    "It's easy and possible to install packages from the notebook itself, just use the command `pip install` followed by the library name."
   ]
  },
  {
   "cell_type": "code",
   "execution_count": 12,
   "metadata": {},
   "outputs": [
    {
     "name": "stdout",
     "output_type": "stream",
     "text": [
      "Requirement already satisfied: textblob in c:\\users\\shhwa\\miniconda3\\lib\\site-packages (0.17.1)\n",
      "Requirement already satisfied: nltk>=3.1 in c:\\users\\shhwa\\miniconda3\\lib\\site-packages (from textblob) (3.8.1)\n",
      "Requirement already satisfied: click in c:\\users\\shhwa\\miniconda3\\lib\\site-packages (from nltk>=3.1->textblob) (8.1.7)\n",
      "Requirement already satisfied: joblib in c:\\users\\shhwa\\miniconda3\\lib\\site-packages (from nltk>=3.1->textblob) (1.3.2)\n",
      "Requirement already satisfied: regex>=2021.8.3 in c:\\users\\shhwa\\miniconda3\\lib\\site-packages (from nltk>=3.1->textblob) (2023.12.25)\n",
      "Requirement already satisfied: tqdm in c:\\users\\shhwa\\miniconda3\\lib\\site-packages (from nltk>=3.1->textblob) (4.65.0)\n",
      "Requirement already satisfied: colorama in c:\\users\\shhwa\\miniconda3\\lib\\site-packages (from click->nltk>=3.1->textblob) (0.4.6)\n",
      "Note: you may need to restart the kernel to use updated packages.\n"
     ]
    }
   ],
   "source": [
    "pip install textblob"
   ]
  },
  {
   "cell_type": "markdown",
   "metadata": {},
   "source": [
    "## Part 3: BeautifulSoup\n",
    "\n",
    "This is a library that helps parse HTML documents. "
   ]
  },
  {
   "cell_type": "code",
   "execution_count": 13,
   "metadata": {},
   "outputs": [],
   "source": [
    "import bs4"
   ]
  },
  {
   "cell_type": "markdown",
   "metadata": {},
   "source": [
    "The class we will use is called BeatifulSoup, but since the name is long, we will rename it as BS."
   ]
  },
  {
   "cell_type": "code",
   "execution_count": 14,
   "metadata": {},
   "outputs": [],
   "source": [
    "from bs4 import BeautifulSoup as BS"
   ]
  },
  {
   "cell_type": "markdown",
   "metadata": {},
   "source": [
    "Firs, I'm creating a simple function to get the content of HTML pages based on their URLs:"
   ]
  },
  {
   "cell_type": "code",
   "execution_count": 15,
   "metadata": {},
   "outputs": [],
   "source": [
    "def getHTMLPage(url):\n",
    "    \"\"\"Given a url, get the HTML page content\"\"\"\n",
    "    \n",
    "    response = requests.get(url)\n",
    "    if response.status_code == 200:\n",
    "        return response.text\n",
    "    else:\n",
    "        print(\"Failure resaon:\", response.reason)\n",
    "        return"
   ]
  },
  {
   "cell_type": "markdown",
   "metadata": {},
   "source": [
    "Now I will get the content of the HTML file using the function I created:"
   ]
  },
  {
   "cell_type": "code",
   "execution_count": 8,
   "metadata": {},
   "outputs": [
    {
     "name": "stdout",
     "output_type": "stream",
     "text": [
      "<!DOCTYPE html>\n",
      "<html>\n",
      "<head>\n",
      "    <meta charset=\"utf-8\">\n",
      "    <title>Purpose</title>\n",
      "</head>\n",
      "<body>\n",
      "    <p>This page is here for protection.</p>\n",
      "</body>\n",
      "</html>\n",
      "\n"
     ]
    }
   ],
   "source": [
    "url = \"http://cs.wellesley.edu/~cs315/readings/index.html\"\n",
    "htmlPage = getHTMLPage(url)\n",
    "print(htmlPage)"
   ]
  },
  {
   "cell_type": "markdown",
   "metadata": {},
   "source": [
    "Let's check what value type is stored in `htmlPage`:"
   ]
  },
  {
   "cell_type": "code",
   "execution_count": 9,
   "metadata": {},
   "outputs": [
    {
     "data": {
      "text/plain": [
       "str"
      ]
     },
     "execution_count": 9,
     "metadata": {},
     "output_type": "execute_result"
    }
   ],
   "source": [
    "type(htmlPage)"
   ]
  },
  {
   "cell_type": "markdown",
   "metadata": {},
   "source": [
    "The BeautifulSoup constructor will create the DOM (document object model) object:"
   ]
  },
  {
   "cell_type": "code",
   "execution_count": 10,
   "metadata": {},
   "outputs": [
    {
     "data": {
      "text/plain": [
       "bs4.BeautifulSoup"
      ]
     },
     "execution_count": 10,
     "metadata": {},
     "output_type": "execute_result"
    }
   ],
   "source": [
    "domTree = BS(htmlPage, 'html.parser')\n",
    "type(domTree)"
   ]
  },
  {
   "cell_type": "markdown",
   "metadata": {},
   "source": [
    "**Note:** Notice the difference between `htmlPage`, which is simply a string and `domTree` which is an object (an instance of the class BeautifuSoup)."
   ]
  },
  {
   "cell_type": "code",
   "execution_count": 11,
   "metadata": {},
   "outputs": [
    {
     "name": "stdout",
     "output_type": "stream",
     "text": [
      "['ASCII_SPACES', 'DEFAULT_BUILDER_FEATURES', 'DEFAULT_INTERESTING_STRING_TYPES', 'EMPTY_ELEMENT_EVENT', 'END_ELEMENT_EVENT', 'NO_PARSER_SPECIFIED_WARNING', 'ROOT_TAG_NAME', 'START_ELEMENT_EVENT', 'STRING_ELEMENT_EVENT', '__bool__', '__call__', '__class__', '__contains__', '__copy__', '__deepcopy__', '__delattr__', '__delitem__', '__dict__', '__dir__', '__doc__', '__eq__', '__format__', '__ge__', '__getattr__', '__getattribute__', '__getitem__', '__getstate__', '__gt__', '__hash__', '__init__', '__init_subclass__', '__iter__', '__le__', '__len__', '__lt__', '__module__', '__ne__', '__new__', '__reduce__', '__reduce_ex__', '__repr__', '__setattr__', '__setitem__', '__setstate__', '__sizeof__', '__str__', '__subclasshook__', '__unicode__', '__weakref__', '_all_strings', '_clone', '_decode_markup', '_event_stream', '_feed', '_find_all', '_find_one', '_format_tag', '_indent_string', '_is_xml', '_lastRecursiveChild', '_last_descendant', '_linkage_fixer', '_markup_is_url', '_markup_resembles_filename', '_most_recent_element', '_namespaces', '_popToTag', '_should_pretty_print', 'append', 'attrs', 'builder', 'can_be_empty_element', 'cdata_list_attributes', 'childGenerator', 'children', 'clear', 'contains_replacement_characters', 'contents', 'css', 'currentTag', 'current_data', 'declared_html_encoding', 'decode', 'decode_contents', 'decompose', 'decomposed', 'default', 'descendants', 'element_classes', 'encode', 'encode_contents', 'endData', 'extend', 'extract', 'fetchNextSiblings', 'fetchParents', 'fetchPrevious', 'fetchPreviousSiblings', 'find', 'findAll', 'findAllNext', 'findAllPrevious', 'findChild', 'findChildren', 'findNext', 'findNextSibling', 'findNextSiblings', 'findParent', 'findParents', 'findPrevious', 'findPreviousSibling', 'findPreviousSiblings', 'find_all', 'find_all_next', 'find_all_previous', 'find_next', 'find_next_sibling', 'find_next_siblings', 'find_parent', 'find_parents', 'find_previous', 'find_previous_sibling', 'find_previous_siblings', 'format_string', 'formatter_for_name', 'get', 'getText', 'get_attribute_list', 'get_text', 'handle_data', 'handle_endtag', 'handle_starttag', 'has_attr', 'has_key', 'hidden', 'index', 'insert', 'insert_after', 'insert_before', 'interesting_string_types', 'isSelfClosing', 'is_empty_element', 'is_xml', 'known_xml', 'markup', 'name', 'namespace', 'new_string', 'new_tag', 'next', 'nextGenerator', 'nextSibling', 'nextSiblingGenerator', 'next_element', 'next_elements', 'next_sibling', 'next_siblings', 'object_was_parsed', 'open_tag_counter', 'original_encoding', 'parent', 'parentGenerator', 'parents', 'parse_only', 'parserClass', 'parser_class', 'popTag', 'prefix', 'preserve_whitespace_tag_stack', 'preserve_whitespace_tags', 'prettify', 'previous', 'previousGenerator', 'previousSibling', 'previousSiblingGenerator', 'previous_element', 'previous_elements', 'previous_sibling', 'previous_siblings', 'pushTag', 'recursiveChildGenerator', 'renderContents', 'replaceWith', 'replaceWithChildren', 'replace_with', 'replace_with_children', 'reset', 'select', 'select_one', 'self_and_descendants', 'setup', 'smooth', 'string', 'string_container', 'string_container_stack', 'strings', 'stripped_strings', 'tagStack', 'text', 'unwrap', 'wrap']\n"
     ]
    }
   ],
   "source": [
    "print(dir(domTree))"
   ]
  },
  {
   "cell_type": "markdown",
   "metadata": {},
   "source": [
    "Let us use the method `find` to find elements with a given tag:"
   ]
  },
  {
   "cell_type": "code",
   "execution_count": 12,
   "metadata": {},
   "outputs": [
    {
     "data": {
      "text/plain": [
       "<p>This page is here for protection.</p>"
      ]
     },
     "execution_count": 12,
     "metadata": {},
     "output_type": "execute_result"
    }
   ],
   "source": [
    "domTree.find('p') # get a paragraph element"
   ]
  },
  {
   "cell_type": "code",
   "execution_count": 13,
   "metadata": {},
   "outputs": [
    {
     "data": {
      "text/plain": [
       "<body>\n",
       "<p>This page is here for protection.</p>\n",
       "</body>"
      ]
     },
     "execution_count": 13,
     "metadata": {},
     "output_type": "execute_result"
    }
   ],
   "source": [
    "domTree.find('body') # get the body element"
   ]
  },
  {
   "cell_type": "code",
   "execution_count": 14,
   "metadata": {},
   "outputs": [
    {
     "data": {
      "text/plain": [
       "<title>Purpose</title>"
      ]
     },
     "execution_count": 14,
     "metadata": {},
     "output_type": "execute_result"
    }
   ],
   "source": [
    "domTree.find('title') # get the title element"
   ]
  },
  {
   "cell_type": "code",
   "execution_count": 15,
   "metadata": {},
   "outputs": [
    {
     "data": {
      "text/plain": [
       "'This page is here for protection.'"
      ]
     },
     "execution_count": 15,
     "metadata": {},
     "output_type": "execute_result"
    }
   ],
   "source": [
    "domTree.find('p').text # get the text of the p element"
   ]
  },
  {
   "cell_type": "markdown",
   "metadata": {},
   "source": [
    "This was just to give you a taste of BeautifulSoup, we will continue doing more work with it on future tutorials."
   ]
  }
 ],
 "metadata": {
  "colab": {
   "name": "requests.ipynb",
   "provenance": []
  },
  "kernelspec": {
   "display_name": "Python 3 (ipykernel)",
   "language": "python",
   "name": "python3"
  },
  "language_info": {
   "codemirror_mode": {
    "name": "ipython",
    "version": 3
   },
   "file_extension": ".py",
   "mimetype": "text/x-python",
   "name": "python",
   "nbconvert_exporter": "python",
   "pygments_lexer": "ipython3",
   "version": "3.10.10"
  }
 },
 "nbformat": 4,
 "nbformat_minor": 4
}
