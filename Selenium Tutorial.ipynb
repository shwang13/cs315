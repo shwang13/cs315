{
 "cells": [
  {
   "cell_type": "markdown",
   "metadata": {},
   "source": [
    "# Web Scraping with Selenium\n",
    "\n",
    "\n",
    "In this notebook, I will show how to use Selenium to search Google and parse the results.\n",
    "\n",
    "\n",
    "**Table of Contents**\n",
    "1. [Part 1: Test Selenium](#part1)\n",
    "2. [Part 2: Get to know Selenium commands](#part2)\n",
    "3. [Part 3: Searching Google (with an example)](#part3)\n",
    "4. [Part 4: Do your own search](#part4)"
   ]
  },
  {
   "cell_type": "markdown",
   "metadata": {},
   "source": [
    "<a id=\"part1\"></a>\n",
    "## Part 1: Test Selenium\n",
    "\n",
    "In this part we will make sure that selenium is installed and can communicate with the Firefox browser."
   ]
  },
  {
   "cell_type": "code",
   "execution_count": 2,
   "metadata": {},
   "outputs": [
    {
     "name": "stdout",
     "output_type": "stream",
     "text": [
      "Collecting selenium\n",
      "  Downloading selenium-4.17.2-py3-none-any.whl (9.9 MB)\n",
      "     ---------------------------------------- 0.0/9.9 MB ? eta -:--:--\n",
      "     -- ------------------------------------- 0.6/9.9 MB 18.5 MB/s eta 0:00:01\n",
      "     ----- ---------------------------------- 1.3/9.9 MB 13.7 MB/s eta 0:00:01\n",
      "     ------- -------------------------------- 1.9/9.9 MB 13.3 MB/s eta 0:00:01\n",
      "     ---------- ----------------------------- 2.6/9.9 MB 15.1 MB/s eta 0:00:01\n",
      "     ------------- -------------------------- 3.3/9.9 MB 15.0 MB/s eta 0:00:01\n",
      "     ---------------- ----------------------- 4.0/9.9 MB 14.3 MB/s eta 0:00:01\n",
      "     ------------------- -------------------- 4.8/9.9 MB 14.5 MB/s eta 0:00:01\n",
      "     --------------------- ------------------ 5.4/9.9 MB 14.9 MB/s eta 0:00:01\n",
      "     ------------------------ --------------- 6.2/9.9 MB 15.8 MB/s eta 0:00:01\n",
      "     --------------------------- ------------ 6.9/9.9 MB 15.7 MB/s eta 0:00:01\n",
      "     ---------------------------- ----------- 7.1/9.9 MB 14.2 MB/s eta 0:00:01\n",
      "     ------------------------------- -------- 7.8/9.9 MB 14.3 MB/s eta 0:00:01\n",
      "     ---------------------------------- ----- 8.6/9.9 MB 14.9 MB/s eta 0:00:01\n",
      "     -------------------------------------- - 9.6/9.9 MB 15.3 MB/s eta 0:00:01\n",
      "     ---------------------------------------- 9.9/9.9 MB 14.7 MB/s eta 0:00:00\n",
      "Requirement already satisfied: urllib3[socks]<3,>=1.26 in c:\\users\\shhwa\\miniconda3\\lib\\site-packages (from selenium) (1.26.15)\n",
      "Requirement already satisfied: typing_extensions>=4.9.0 in c:\\users\\shhwa\\miniconda3\\lib\\site-packages (from selenium) (4.9.0)\n",
      "Collecting trio~=0.17\n",
      "  Downloading trio-0.24.0-py3-none-any.whl (460 kB)\n",
      "     ---------------------------------------- 0.0/460.2 kB ? eta -:--:--\n",
      "     ------------------------------------- 460.2/460.2 kB 14.1 MB/s eta 0:00:00\n",
      "Requirement already satisfied: certifi>=2021.10.8 in c:\\users\\shhwa\\miniconda3\\lib\\site-packages (from selenium) (2022.12.7)\n",
      "Collecting trio-websocket~=0.9\n",
      "  Downloading trio_websocket-0.11.1-py3-none-any.whl (17 kB)\n",
      "Collecting outcome\n",
      "  Downloading outcome-1.3.0.post0-py2.py3-none-any.whl (10 kB)\n",
      "Collecting sortedcontainers\n",
      "  Downloading sortedcontainers-2.4.0-py2.py3-none-any.whl (29 kB)\n",
      "Requirement already satisfied: sniffio>=1.3.0 in c:\\users\\shhwa\\miniconda3\\lib\\site-packages (from trio~=0.17->selenium) (1.3.0)\n",
      "Requirement already satisfied: attrs>=20.1.0 in c:\\users\\shhwa\\miniconda3\\lib\\site-packages (from trio~=0.17->selenium) (23.2.0)\n",
      "Requirement already satisfied: exceptiongroup in c:\\users\\shhwa\\miniconda3\\lib\\site-packages (from trio~=0.17->selenium) (1.2.0)\n",
      "Requirement already satisfied: idna in c:\\users\\shhwa\\miniconda3\\lib\\site-packages (from trio~=0.17->selenium) (3.4)\n",
      "Requirement already satisfied: cffi>=1.14 in c:\\users\\shhwa\\miniconda3\\lib\\site-packages (from trio~=0.17->selenium) (1.15.1)\n",
      "Collecting wsproto>=0.14\n",
      "  Downloading wsproto-1.2.0-py3-none-any.whl (24 kB)\n",
      "Requirement already satisfied: PySocks!=1.5.7,<2.0,>=1.5.6 in c:\\users\\shhwa\\miniconda3\\lib\\site-packages (from urllib3[socks]<3,>=1.26->selenium) (1.7.1)\n",
      "Requirement already satisfied: pycparser in c:\\users\\shhwa\\miniconda3\\lib\\site-packages (from cffi>=1.14->trio~=0.17->selenium) (2.21)\n",
      "Collecting h11<1,>=0.9.0\n",
      "  Downloading h11-0.14.0-py3-none-any.whl (58 kB)\n",
      "     ---------------------------------------- 0.0/58.3 kB ? eta -:--:--\n",
      "     ---------------------------------------- 58.3/58.3 kB ? eta 0:00:00\n",
      "Installing collected packages: sortedcontainers, outcome, h11, wsproto, trio, trio-websocket, selenium\n",
      "Successfully installed h11-0.14.0 outcome-1.3.0.post0 selenium-4.17.2 sortedcontainers-2.4.0 trio-0.24.0 trio-websocket-0.11.1 wsproto-1.2.0\n",
      "Note: you may need to restart the kernel to use updated packages.\n"
     ]
    }
   ],
   "source": [
    "pip install selenium"
   ]
  },
  {
   "cell_type": "code",
   "execution_count": 3,
   "metadata": {},
   "outputs": [],
   "source": [
    "import selenium "
   ]
  },
  {
   "cell_type": "markdown",
   "metadata": {},
   "source": [
    "If you are getting an error, such as: ModuleNotFoundError: No module named 'selenium', then you'll need to install the selenium package."
   ]
  },
  {
   "cell_type": "markdown",
   "metadata": {},
   "source": [
    "**IMPORTANT STEP:** Check the slides for Day 3 to deal with the \"path\" of where Geckodriver is stored, otherwise, the code below will show an error."
   ]
  },
  {
   "cell_type": "markdown",
   "metadata": {},
   "source": [
    "Now we are creating a Firefox instance and telling it to open a web page:"
   ]
  },
  {
   "cell_type": "code",
   "execution_count": 15,
   "metadata": {},
   "outputs": [],
   "source": [
    "from selenium import webdriver\n",
    "\n",
    "browser = webdriver.Firefox()\n",
    "browser.get('http://cs.wellesley.edu')"
   ]
  },
  {
   "cell_type": "markdown",
   "metadata": {},
   "source": [
    "If the test was successful, you should be able to see a Firefox browser open, and then display the Wellesley CS homepage.\n",
    "\n",
    "**Note:** In order to continue with the commands in Part 2, DO NOT close the Firefox window that was opened above. Without the browser, the commands will fail."
   ]
  },
  {
   "cell_type": "markdown",
   "metadata": {},
   "source": [
    "<a id=\"part2\"></a>"
   ]
  },
  {
   "cell_type": "markdown",
   "metadata": {},
   "source": [
    "## Part 2: Get to know Selenium commands\n",
    "\n",
    "One way to learn more about what methods and attributes of a class are available is to use the Python function `dir`:"
   ]
  },
  {
   "cell_type": "code",
   "execution_count": 5,
   "metadata": {},
   "outputs": [
    {
     "name": "stdout",
     "output_type": "stream",
     "text": [
      "['CONTEXT_CHROME', 'CONTEXT_CONTENT', '__abstractmethods__', '__class__', '__delattr__', '__dict__', '__dir__', '__doc__', '__enter__', '__eq__', '__exit__', '__format__', '__ge__', '__getattribute__', '__gt__', '__hash__', '__init__', '__init_subclass__', '__le__', '__lt__', '__module__', '__ne__', '__new__', '__reduce__', '__reduce_ex__', '__repr__', '__setattr__', '__sizeof__', '__str__', '__subclasshook__', '__weakref__', '_abc_impl', '_authenticator_id', '_check_if_window_handle_is_current', '_file_detector', '_get_cdp_details', '_is_remote', '_mobile', '_shadowroot_cls', '_switch_to', '_unwrap_value', '_web_element_cls', '_wrap_value', 'add_cookie', 'add_credential', 'add_virtual_authenticator', 'back', 'bidi_connection', 'capabilities', 'caps', 'close', 'command_executor', 'context', 'create_web_element', 'current_url', 'current_window_handle', 'delete_all_cookies', 'delete_cookie', 'delete_downloadable_files', 'download_file', 'error_handler', 'execute', 'execute_async_script', 'execute_script', 'file_detector', 'file_detector_context', 'find_element', 'find_elements', 'forward', 'fullscreen_window', 'get', 'get_cookie', 'get_cookies', 'get_credentials', 'get_downloadable_files', 'get_full_page_screenshot_as_base64', 'get_full_page_screenshot_as_file', 'get_full_page_screenshot_as_png', 'get_log', 'get_pinned_scripts', 'get_screenshot_as_base64', 'get_screenshot_as_file', 'get_screenshot_as_png', 'get_window_position', 'get_window_rect', 'get_window_size', 'implicitly_wait', 'install_addon', 'log_types', 'maximize_window', 'minimize_window', 'mobile', 'name', 'orientation', 'page_source', 'pin_script', 'pinned_scripts', 'print_page', 'quit', 'refresh', 'remove_all_credentials', 'remove_credential', 'remove_virtual_authenticator', 'save_full_page_screenshot', 'save_screenshot', 'service', 'session_id', 'set_context', 'set_page_load_timeout', 'set_script_timeout', 'set_user_verified', 'set_window_position', 'set_window_rect', 'set_window_size', 'start_client', 'start_session', 'stop_client', 'switch_to', 'timeouts', 'title', 'uninstall_addon', 'unpin', 'virtual_authenticator_id', 'window_handles']\n"
     ]
    }
   ],
   "source": [
    "print(dir(browser))"
   ]
  },
  {
   "cell_type": "markdown",
   "metadata": {},
   "source": [
    "Here are some useful attributes of the `browser` object that we might be interested to use:"
   ]
  },
  {
   "cell_type": "code",
   "execution_count": 12,
   "metadata": {},
   "outputs": [
    {
     "data": {
      "text/plain": [
       "'https://www.wellesley.edu/cs'"
      ]
     },
     "execution_count": 12,
     "metadata": {},
     "output_type": "execute_result"
    }
   ],
   "source": [
    "browser.current_url"
   ]
  },
  {
   "cell_type": "code",
   "execution_count": 7,
   "metadata": {},
   "outputs": [
    {
     "data": {
      "text/plain": [
       "'Computer Science | Wellesley College'"
      ]
     },
     "execution_count": 7,
     "metadata": {},
     "output_type": "execute_result"
    }
   ],
   "source": [
    "browser.title"
   ]
  },
  {
   "cell_type": "code",
   "execution_count": 8,
   "metadata": {},
   "outputs": [
    {
     "data": {
      "text/plain": [
       "'>\\n  <meta name=\"viewport\" content=\"width=device-width, initial-scale=1.0\">\\n  <meta http-equiv=\"Content-Type\" content=\"text/html; charset=utf-8\">\\n<meta property=\"og:title\" content=\"Computer Science\">\\n<meta property=\"og:description\" content=\"\\n\\n.flex-parent {\\n  display: flex;\\n  flex-wrap:wrap;\\n  justify-content: center;\\n}\\n.button {\\n  border: 1px solid black;\\n  color: white;\\n  background-color: #002776;\\n  padding: 15px 35px;\\n  t\">\\n<meta property=\"og:image\" content=\"https://www.wellesley.edu/sites/de'"
      ]
     },
     "execution_count": 8,
     "metadata": {},
     "output_type": "execute_result"
    }
   ],
   "source": [
    "browser.page_source[500:1000] # don't print the entire page, might be too big"
   ]
  },
  {
   "cell_type": "markdown",
   "metadata": {},
   "source": [
    "Selenium has its own set of commands for accessing the DOM of a page, here are some examples:"
   ]
  },
  {
   "cell_type": "code",
   "execution_count": 16,
   "metadata": {},
   "outputs": [
    {
     "name": "stdout",
     "output_type": "stream",
     "text": [
      "MyWellesley\n",
      "Give\n",
      "ABOUT\n",
      "ADMISSION & FINANCIAL AID\n",
      "ACADEMICS\n",
      "CAMPUS LIFE\n",
      "ATHLETICS\n",
      "NEWS\n",
      "EVENTS\n",
      "ADMINISTRATION\n",
      "ALUMNAE\n"
     ]
    }
   ],
   "source": [
    "from selenium.webdriver.common.by import By # contains operators for the type of search we want to do\n",
    "\n",
    "# Find the element with id=\"navbar\"\n",
    "try:\n",
    "    print(browser.find_element(By.ID, 'navbar').text)\n",
    "except Exception as e:\n",
    "    print(e)"
   ]
  },
  {
   "cell_type": "code",
   "execution_count": 13,
   "metadata": {},
   "outputs": [
    {
     "name": "stdout",
     "output_type": "stream",
     "text": [
      "Computer Science\n",
      "Curriculum\n",
      "Faculty\n",
      "Research\n",
      "News and Events\n",
      "Resources\n",
      "Diversity, Equity, and Inclusion\n",
      "Student Opportunities\n",
      "Beyond Wellesley\n",
      "Contact Us\n",
      "Sohie Lee\n",
      "Department Co-Chair\n",
      "Tel: 781.283.3123\n",
      "Email: slee@wellesley.edu\n",
      "Orit Shaer\n",
      "Department Co-Chair\n",
      "Tel: 781.283.3093\n",
      "Email: oshaer@wellesley.edu\n",
      "Narine Emdjian\n",
      "Academic Administrator/Grants Coordinator\n",
      "Tel: 781.283.3147\n",
      "Email: ne100@wellesley.edu\n"
     ]
    }
   ],
   "source": [
    "# Find the element with a given class name\n",
    "try:\n",
    "    print(browser.find_element(By.CLASS_NAME, 'md-left-sidebar').text)\n",
    "except Exception as e:\n",
    "    print(e)"
   ]
  },
  {
   "cell_type": "markdown",
   "metadata": {},
   "source": [
    "Let's close the browser instance:"
   ]
  },
  {
   "cell_type": "code",
   "execution_count": 19,
   "metadata": {},
   "outputs": [
    {
     "ename": "InvalidSessionIdException",
     "evalue": "Message: Tried to run command without establishing a connection\n",
     "output_type": "error",
     "traceback": [
      "\u001b[1;31m---------------------------------------------------------------------------\u001b[0m",
      "\u001b[1;31mInvalidSessionIdException\u001b[0m                 Traceback (most recent call last)",
      "Cell \u001b[1;32mIn[19], line 1\u001b[0m\n\u001b[1;32m----> 1\u001b[0m \u001b[43mbrowser\u001b[49m\u001b[38;5;241;43m.\u001b[39;49m\u001b[43mclose\u001b[49m\u001b[43m(\u001b[49m\u001b[43m)\u001b[49m\n",
      "File \u001b[1;32m~\\miniconda3\\lib\\site-packages\\selenium\\webdriver\\remote\\webdriver.py:458\u001b[0m, in \u001b[0;36mWebDriver.close\u001b[1;34m(self)\u001b[0m\n\u001b[0;32m    450\u001b[0m \u001b[38;5;28;01mdef\u001b[39;00m \u001b[38;5;21mclose\u001b[39m(\u001b[38;5;28mself\u001b[39m) \u001b[38;5;241m-\u001b[39m\u001b[38;5;241m>\u001b[39m \u001b[38;5;28;01mNone\u001b[39;00m:\n\u001b[0;32m    451\u001b[0m \u001b[38;5;250m    \u001b[39m\u001b[38;5;124;03m\"\"\"Closes the current window.\u001b[39;00m\n\u001b[0;32m    452\u001b[0m \n\u001b[0;32m    453\u001b[0m \u001b[38;5;124;03m    :Usage:\u001b[39;00m\n\u001b[1;32m   (...)\u001b[0m\n\u001b[0;32m    456\u001b[0m \u001b[38;5;124;03m            driver.close()\u001b[39;00m\n\u001b[0;32m    457\u001b[0m \u001b[38;5;124;03m    \"\"\"\u001b[39;00m\n\u001b[1;32m--> 458\u001b[0m     \u001b[38;5;28;43mself\u001b[39;49m\u001b[38;5;241;43m.\u001b[39;49m\u001b[43mexecute\u001b[49m\u001b[43m(\u001b[49m\u001b[43mCommand\u001b[49m\u001b[38;5;241;43m.\u001b[39;49m\u001b[43mCLOSE\u001b[49m\u001b[43m)\u001b[49m\n",
      "File \u001b[1;32m~\\miniconda3\\lib\\site-packages\\selenium\\webdriver\\remote\\webdriver.py:347\u001b[0m, in \u001b[0;36mWebDriver.execute\u001b[1;34m(self, driver_command, params)\u001b[0m\n\u001b[0;32m    345\u001b[0m response \u001b[38;5;241m=\u001b[39m \u001b[38;5;28mself\u001b[39m\u001b[38;5;241m.\u001b[39mcommand_executor\u001b[38;5;241m.\u001b[39mexecute(driver_command, params)\n\u001b[0;32m    346\u001b[0m \u001b[38;5;28;01mif\u001b[39;00m response:\n\u001b[1;32m--> 347\u001b[0m     \u001b[38;5;28;43mself\u001b[39;49m\u001b[38;5;241;43m.\u001b[39;49m\u001b[43merror_handler\u001b[49m\u001b[38;5;241;43m.\u001b[39;49m\u001b[43mcheck_response\u001b[49m\u001b[43m(\u001b[49m\u001b[43mresponse\u001b[49m\u001b[43m)\u001b[49m\n\u001b[0;32m    348\u001b[0m     response[\u001b[38;5;124m\"\u001b[39m\u001b[38;5;124mvalue\u001b[39m\u001b[38;5;124m\"\u001b[39m] \u001b[38;5;241m=\u001b[39m \u001b[38;5;28mself\u001b[39m\u001b[38;5;241m.\u001b[39m_unwrap_value(response\u001b[38;5;241m.\u001b[39mget(\u001b[38;5;124m\"\u001b[39m\u001b[38;5;124mvalue\u001b[39m\u001b[38;5;124m\"\u001b[39m, \u001b[38;5;28;01mNone\u001b[39;00m))\n\u001b[0;32m    349\u001b[0m     \u001b[38;5;28;01mreturn\u001b[39;00m response\n",
      "File \u001b[1;32m~\\miniconda3\\lib\\site-packages\\selenium\\webdriver\\remote\\errorhandler.py:229\u001b[0m, in \u001b[0;36mErrorHandler.check_response\u001b[1;34m(self, response)\u001b[0m\n\u001b[0;32m    227\u001b[0m         alert_text \u001b[38;5;241m=\u001b[39m value[\u001b[38;5;124m\"\u001b[39m\u001b[38;5;124malert\u001b[39m\u001b[38;5;124m\"\u001b[39m]\u001b[38;5;241m.\u001b[39mget(\u001b[38;5;124m\"\u001b[39m\u001b[38;5;124mtext\u001b[39m\u001b[38;5;124m\"\u001b[39m)\n\u001b[0;32m    228\u001b[0m     \u001b[38;5;28;01mraise\u001b[39;00m exception_class(message, screen, stacktrace, alert_text)  \u001b[38;5;66;03m# type: ignore[call-arg]  # mypy is not smart enough here\u001b[39;00m\n\u001b[1;32m--> 229\u001b[0m \u001b[38;5;28;01mraise\u001b[39;00m exception_class(message, screen, stacktrace)\n",
      "\u001b[1;31mInvalidSessionIdException\u001b[0m: Message: Tried to run command without establishing a connection\n"
     ]
    }
   ],
   "source": [
    "browser.close()"
   ]
  },
  {
   "cell_type": "markdown",
   "metadata": {},
   "source": [
    "<a id=\"part3\"></a>"
   ]
  },
  {
   "cell_type": "markdown",
   "metadata": {},
   "source": [
    "## Part 3: Searching Google\n",
    "\n",
    "We'll open a new browser instance and get to visit Google."
   ]
  },
  {
   "cell_type": "code",
   "execution_count": 20,
   "metadata": {},
   "outputs": [],
   "source": [
    "browser = webdriver.Firefox()\n",
    "browser.get('https://google.com')"
   ]
  },
  {
   "cell_type": "markdown",
   "metadata": {},
   "source": [
    "We want to access the search box, which we know it's named \"q\", so it can be accessed by its name:"
   ]
  },
  {
   "cell_type": "code",
   "execution_count": 21,
   "metadata": {},
   "outputs": [
    {
     "data": {
      "text/plain": [
       "<selenium.webdriver.remote.webelement.WebElement (session=\"e36375d7-bde9-484d-939b-a07f93024ab7\", element=\"f9fabe62-4469-439b-8836-4b5ca1ace924\")>"
      ]
     },
     "execution_count": 21,
     "metadata": {},
     "output_type": "execute_result"
    }
   ],
   "source": [
    "browser.find_element(By.NAME, \"q\")"
   ]
  },
  {
   "cell_type": "markdown",
   "metadata": {},
   "source": [
    "This result shows us that there is an element named \"q\". We will assign a variable to this instance so that we can interact with it:"
   ]
  },
  {
   "cell_type": "code",
   "execution_count": 22,
   "metadata": {},
   "outputs": [],
   "source": [
    "inputBox = browser.find_element(By.NAME, \"q\")\n",
    "inputBox.send_keys(\"wellesley college\")"
   ]
  },
  {
   "cell_type": "markdown",
   "metadata": {},
   "source": [
    "Notice how the browser copied the phrase into the search box and Google showed the suggested searches. If we want the search to start, we can send an enter event via code:"
   ]
  },
  {
   "cell_type": "code",
   "execution_count": 23,
   "metadata": {},
   "outputs": [],
   "source": [
    "from selenium.webdriver.common.keys import Keys\n",
    "inputBox.send_keys(Keys.ENTER)"
   ]
  },
  {
   "cell_type": "markdown",
   "metadata": {},
   "source": [
    "This sends the query phrase and then the page is loaded.\n",
    "\n",
    "It's possible to perform other operations with the keyboard, here is a [list of keyboard keys](https://www.selenium.dev/selenium/docs/api/py/webdriver/selenium.webdriver.common.keys.html) that Selenium recognizes.\n",
    "\n",
    "Now that we know how to search Google, here are some simple tasks to try."
   ]
  },
  {
   "cell_type": "markdown",
   "metadata": {},
   "source": [
    "### Example: Artist Popularity\n",
    "\n",
    "Let's take the list of **five** famous artists, e.g. Lady Gaga, Rihana, Taylor Swift, Beyonce, and Britney Spears, and find the number of results (hits) that Google returns for each of them. We will use these numbers to rank the artists based on the number of hits. In a sense, one can use the number of hits as a signal of an artist's popularity. More hits means more people have created pages mentioning the search phrase.\n",
    "\n",
    "**Good to know**\n",
    "\n",
    "- The element of the search page that contains the number of results has id=\"result-stats\".\n",
    "- The result usually looks like this: 'About 6,120,000 results (1.25 seconds) ', thus, we will extract the number, turn it into an integer, before doing the ranking.\n",
    "- It takes some time between sending a query and the page loading, so you want the program to wait in between calls. We can use Python's time.sleep(N) as the simplest way to wait."
   ]
  },
  {
   "cell_type": "code",
   "execution_count": 24,
   "metadata": {},
   "outputs": [],
   "source": [
    "import time\n",
    "\n",
    "def getResults(query):\n",
    "    \"\"\"Given a query, open a browser instance, search Google for the \n",
    "    phrase, then get the result-stats phrase from the page and return it.\n",
    "    \"\"\"\n",
    "    browser = webdriver.Firefox()\n",
    "    browser.get('https://google.com')\n",
    "    inputBox = browser.find_element(By.NAME, \"q\")\n",
    "    inputBox.clear() # so that in between searches it starts empty\n",
    "    inputBox.send_keys(query)\n",
    "    inputBox.send_keys(Keys.ENTER)\n",
    "    time.sleep(1) # wait for the page to load\n",
    "    try:\n",
    "        result = browser.find_element(By.ID, \"result-stats\").text\n",
    "    except:\n",
    "        # Occasionally, Google Search shows something else at the top of the page.\n",
    "        print(f\"Couldn't find result for {query}\")\n",
    "        result = \"\"\n",
    "    browser.close()\n",
    "    return result"
   ]
  },
  {
   "cell_type": "markdown",
   "metadata": {},
   "source": [
    "A helper function to return the hit number."
   ]
  },
  {
   "cell_type": "code",
   "execution_count": 25,
   "metadata": {},
   "outputs": [],
   "source": [
    "def processHitNumber(phrase):\n",
    "    \"\"\"Assumes that the phrase has the following format:\n",
    "    About 39,600,000 results (0.75 seconds)\n",
    "    and extracts the number of results.\n",
    "    \"\"\"\n",
    "    hitNumber = phrase.split()[1]\n",
    "    return int(hitNumber.replace(',', ''))"
   ]
  },
  {
   "cell_type": "markdown",
   "metadata": {},
   "source": [
    "We'll iterate over a list of artists and get the results."
   ]
  },
  {
   "cell_type": "code",
   "execution_count": 26,
   "metadata": {},
   "outputs": [
    {
     "name": "stdout",
     "output_type": "stream",
     "text": [
      "Lady Gaga | About 160,000,000 results (0.46 seconds) \n",
      "Rihanna | About 260,000,000 results (0.26 seconds) \n",
      "Taylor Swift | \n",
      "Beyonce | \n",
      "Britney Spears | About 149,000,000 results (0.38 seconds) \n"
     ]
    },
    {
     "data": {
      "text/plain": [
       "[('Rihanna', 260000000),\n",
       " ('Lady Gaga', 160000000),\n",
       " ('Britney Spears', 149000000)]"
      ]
     },
     "execution_count": 26,
     "metadata": {},
     "output_type": "execute_result"
    }
   ],
   "source": [
    "artistsAndHits = [] # to store the pairs of (artistName, numberOfHits)\n",
    "\n",
    "for name in ['Lady Gaga', 'Rihanna', 'Taylor Swift', \n",
    "             'Beyonce', 'Britney Spears']:\n",
    "    \n",
    "    results = getResults(name)\n",
    "    \n",
    "    print(name, '|', results) \n",
    "    if results:\n",
    "        hitnumber = processHitNumber(results)\n",
    "        artistsAndHits.append((name, hitnumber))\n",
    "    \n",
    "    \n",
    "sorted(artistsAndHits, key=lambda item: item[1], reverse=True)"
   ]
  },
  {
   "cell_type": "markdown",
   "metadata": {},
   "source": [
    "<a id=\"part4\"></a>\n",
    "## Part 4: Do your own search\n",
    "\n",
    "Make a list of Universities and Colleges (that you applied to or that you were interested in before Wellesley), repeat the search as before and find out which of them is most \"popular\" according to Google.\n",
    "\n",
    "**Optional:** Do the results correlate with other metrics about these institutions (e.g. rankings, endowment, etc.)? How would you go about finding out?"
   ]
  },
  {
   "cell_type": "code",
   "execution_count": 28,
   "metadata": {},
   "outputs": [
    {
     "name": "stdout",
     "output_type": "stream",
     "text": [
      "Wellesley College | About 25,500,000 results (0.31 seconds) \n",
      "Harvard University | About 908,000,000 results (0.42 seconds) \n",
      "Massachusetts Institute of Technology | About 457,000,000 results (0.38 seconds) \n",
      "UCLA | About 464,000,000 results (0.34 seconds) \n",
      "Pomona College | About 19,000,000 results (0.32 seconds) \n",
      "University of Southern California | About 722,000,000 results (0.42 seconds) \n"
     ]
    },
    {
     "data": {
      "text/plain": [
       "[('Harvard University', 908000000),\n",
       " ('University of Southern California', 722000000),\n",
       " ('UCLA', 464000000),\n",
       " ('Massachusetts Institute of Technology', 457000000),\n",
       " ('Wellesley College', 25500000),\n",
       " ('Pomona College', 19000000)]"
      ]
     },
     "execution_count": 28,
     "metadata": {},
     "output_type": "execute_result"
    }
   ],
   "source": [
    "collegesAndPopularity = [] # to store the pairs of (colleges, popularity)\n",
    "\n",
    "for name in ['Wellesley College', 'Harvard University', 'Massachusetts Institute of Technology', \n",
    "             'UCLA', 'Pomona College', 'University of Southern California']:\n",
    "    \n",
    "    results = getResults(name)\n",
    "    \n",
    "    print(name, '|', results) \n",
    "    if results:\n",
    "        popularity = processHitNumber(results)\n",
    "        collegesAndPopularity.append((name, popularity))\n",
    "    \n",
    "    \n",
    "sorted(collegesAndPopularity, key=lambda item: item[1], reverse=True)"
   ]
  },
  {
   "cell_type": "markdown",
   "metadata": {},
   "source": [
    "Expected that Harvard would be first, and that Wellesley and Pomona would have less search results because they are lesser known and smaller. \n",
    "However, I was surprised by the hit number for USC - I expected MIT to be higher. This large hit number for USC is likely attributed to their sports popularity (same with UCLA). "
   ]
  }
 ],
 "metadata": {
  "kernelspec": {
   "display_name": "Python 3 (ipykernel)",
   "language": "python",
   "name": "python3"
  },
  "language_info": {
   "codemirror_mode": {
    "name": "ipython",
    "version": 3
   },
   "file_extension": ".py",
   "mimetype": "text/x-python",
   "name": "python",
   "nbconvert_exporter": "python",
   "pygments_lexer": "ipython3",
   "version": "3.10.10"
  }
 },
 "nbformat": 4,
 "nbformat_minor": 4
}
