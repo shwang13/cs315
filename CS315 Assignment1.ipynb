{
 "cells": [
  {
   "cell_type": "markdown",
   "id": "5a14e734-d9e0-415f-8755-1d1e8b737847",
   "metadata": {},
   "source": [
    "# Assignment 1: Python Practice"
   ]
  },
  {
   "cell_type": "markdown",
   "id": "dfff22e6-28ad-4621-b276-35af86c28543",
   "metadata": {},
   "source": [
    "##### Author: Seohyun (Sophie) Hwang \n",
    "##### **January 28, 2024**"
   ]
  },
  {
   "cell_type": "markdown",
   "id": "c8bcb8d4-6b0d-4a5d-a9bc-8ecf84c46e8c",
   "metadata": {},
   "source": [
    "**Collaboration:** Caroline Jung"
   ]
  },
  {
   "cell_type": "markdown",
   "id": "24622b13-d965-45d6-ae58-5d6a4576c504",
   "metadata": {},
   "source": [
    "1. try to write some data into a CSV file"
   ]
  },
  {
   "cell_type": "code",
   "execution_count": 2,
   "id": "ecfb6f44-7083-44fa-b4ac-d51160cc046a",
   "metadata": {},
   "outputs": [
    {
     "data": {
      "text/plain": [
       "[{'Name': 'Animal Crossing: New Horizons',\n",
       "  'Releaseyear': '2020',\n",
       "  'Platform': 'Nintendo Switch'},\n",
       " {'Name': 'League of Legends', 'Releaseyear': '2009', 'Platform': 'PC'},\n",
       " {'Name': 'Overwatch', 'Releaseyear': '2016', 'Platform': 'PlayStation'},\n",
       " {'Name': 'Pokemon GO', 'Releaseyear': '2016', 'Platform': 'Mobile'},\n",
       " {'Name': 'The Legend of Zelda: Breath of the Wild',\n",
       "  'Releaseyear': '2017',\n",
       "  'Platform': 'Nintendo Switch'}]"
      ]
     },
     "execution_count": 2,
     "metadata": {},
     "output_type": "execute_result"
    }
   ],
   "source": [
    "games = [{'Name': 'Animal Crossing: New Horizons', 'Releaseyear': '2020', 'Platform': 'Nintendo Switch'},\n",
    "         {'Name': 'League of Legends', 'Releaseyear': '2009', 'Platform': 'PC'},\n",
    "         {'Name': 'Overwatch', 'Releaseyear': '2016', 'Platform': 'PlayStation'},\n",
    "         {'Name': 'Pokemon GO', 'Releaseyear': '2016', 'Platform': 'Mobile'},\n",
    "         {'Name': 'The Legend of Zelda: Breath of the Wild', 'Releaseyear': '2017', 'Platform': 'Nintendo Switch'}]  \n",
    "games"
   ]
  },
  {
   "cell_type": "code",
   "execution_count": 3,
   "id": "7c50094c-2d10-4739-a679-5d0fa1c77820",
   "metadata": {},
   "outputs": [
    {
     "name": "stdout",
     "output_type": "stream",
     "text": [
      "{'Name': 'Animal Crossing: New Horizons', 'Releaseyear': '2020', 'Platform': 'Nintendo Switch'}\n",
      "{'Name': 'League of Legends', 'Releaseyear': '2009', 'Platform': 'PC'}\n",
      "{'Name': 'Overwatch', 'Releaseyear': '2016', 'Platform': 'PlayStation'}\n",
      "{'Name': 'Pokemon GO', 'Releaseyear': '2016', 'Platform': 'Mobile'}\n",
      "{'Name': 'The Legend of Zelda: Breath of the Wild', 'Releaseyear': '2017', 'Platform': 'Nintendo Switch'}\n"
     ]
    }
   ],
   "source": [
    "rows = [row for row in games]\n",
    "\n",
    "for row in rows: \n",
    "    print(row)"
   ]
  },
  {
   "cell_type": "code",
   "execution_count": 4,
   "id": "7488f5b6-2c3b-4332-95d9-89bf1a768899",
   "metadata": {},
   "outputs": [],
   "source": [
    "import csv\n",
    "with open(\"games.csv\", 'w') as fileToWrite:\n",
    "    csvWriter = csv.DictWriter(fileToWrite, \n",
    "                               fieldnames=rows[0].keys()) # get the key names as column names\n",
    "    \n",
    "    csvWriter.writeheader() # write the column names\n",
    "    csvWriter.writerows(rows) # write all rows"
   ]
  },
  {
   "cell_type": "markdown",
   "id": "f493a6c6-8c8a-4541-bb24-bd736a8151ee",
   "metadata": {},
   "source": [
    "2. Then, use csv and jinja2 to convert that information into an HTML file. Upload that file into the server"
   ]
  },
  {
   "cell_type": "code",
   "execution_count": 9,
   "id": "24eccefa-a410-4f17-a39a-0b49cd951944",
   "metadata": {},
   "outputs": [
    {
     "data": {
      "text/plain": [
       "[{'Name': 'Animal Crossing: New Horizons',\n",
       "  'Releaseyear': '2020',\n",
       "  'Platform': 'Nintendo Switch'},\n",
       " {'Name': 'League of Legends', 'Releaseyear': '2009', 'Platform': 'PC'},\n",
       " {'Name': 'Overwatch', 'Releaseyear': '2016', 'Platform': 'PlayStation'},\n",
       " {'Name': 'Pokemon GO', 'Releaseyear': '2016', 'Platform': 'Mobile'},\n",
       " {'Name': 'The Legend of Zelda: Breath of the Wild',\n",
       "  'Releaseyear': '2017',\n",
       "  'Platform': 'Nintendo Switch'}]"
      ]
     },
     "execution_count": 9,
     "metadata": {},
     "output_type": "execute_result"
    }
   ],
   "source": [
    "from jinja2 import Template\n",
    "\n",
    "with open(\"games.csv\") as fileToRead:     # open file to read\n",
    "    csvReader = csv.DictReader(fileToRead)   # create reader object\n",
    "    games = [row for row in csvReader] \n",
    "\n",
    "games"
   ]
  },
  {
   "cell_type": "code",
   "execution_count": 28,
   "id": "23e27e6a-b756-4a42-a703-19f9512e2a0c",
   "metadata": {},
   "outputs": [],
   "source": [
    "htmlTemplate = \"\"\"\n",
    "<DOCTYPE html>\n",
    "<html>\n",
    "    <head><title>Games!</title></head>\n",
    "    <body>\n",
    "        <h1>Game Titles and info</h1>\n",
    "        <ul>\n",
    "        {% for st in gamesList %}\n",
    "            <li class=\"game\">{{ st['Name'] }}, released in {{ st['Releaseyear'] }}, is playable on {{ st['Platform']}}.</li> \n",
    "        {% endfor %}\n",
    "        </ul>\n",
    "    </body>\n",
    "</html>\n",
    "\"\"\"\n",
    "\n",
    "tempObj = Template(htmlTemplate)"
   ]
  },
  {
   "cell_type": "code",
   "execution_count": 29,
   "id": "6da34f2f-3e06-4135-af7c-e60276ea27b3",
   "metadata": {
    "scrolled": true
   },
   "outputs": [
    {
     "name": "stdout",
     "output_type": "stream",
     "text": [
      "\n",
      "<DOCTYPE html>\n",
      "<html>\n",
      "    <head><title>Games!</title></head>\n",
      "    <body>\n",
      "        <h1>Game Titles and info</h1>\n",
      "        <ul>\n",
      "        \n",
      "            <li class=\"game\">Animal Crossing: New Horizons, released in 2020, is playable on Nintendo Switch.</li> \n",
      "        \n",
      "            <li class=\"game\">League of Legends, released in 2009, is playable on PC.</li> \n",
      "        \n",
      "            <li class=\"game\">Overwatch, released in 2016, is playable on PlayStation.</li> \n",
      "        \n",
      "            <li class=\"game\">Pokemon GO, released in 2016, is playable on Mobile.</li> \n",
      "        \n",
      "            <li class=\"game\">The Legend of Zelda: Breath of the Wild, released in 2017, is playable on Nintendo Switch.</li> \n",
      "        \n",
      "        </ul>\n",
      "    </body>\n",
      "</html>\n"
     ]
    }
   ],
   "source": [
    "result = tempObj.render(gamesList=games)\n",
    "print(result)"
   ]
  },
  {
   "cell_type": "code",
   "execution_count": 30,
   "id": "7fcea6dd-97aa-4172-ab96-a84593e9bfc2",
   "metadata": {},
   "outputs": [],
   "source": [
    "with open('games.html', 'w') as outFile:\n",
    "    outFile.write(result)"
   ]
  },
  {
   "cell_type": "markdown",
   "id": "d4e796ac-d739-4626-a3ef-376c7485015c",
   "metadata": {},
   "source": [
    "3. Pair up with a peer to exchange URLs of the files you created"
   ]
  },
  {
   "cell_type": "markdown",
   "id": "78644507-1b8c-48f8-a955-92cacfb2a8c9",
   "metadata": {},
   "source": [
    "[Caroline's file: Some songs on YouTube](https://cs.wellesley.edu/~cj104/songs.html)"
   ]
  },
  {
   "cell_type": "markdown",
   "id": "8be889fc-64de-47af-aec2-4869fb51a408",
   "metadata": {},
   "source": [
    "4. Write code to get the friend’s file onto your computer and use beautifulsoup to extract the content of what your friend has written, and then save that content into a JSON file (as a dictionary of values)."
   ]
  },
  {
   "cell_type": "code",
   "execution_count": 100,
   "id": "51d61f2c-ee6a-4f96-ab0e-4978e585718b",
   "metadata": {},
   "outputs": [],
   "source": [
    "import requests\n",
    "import json\n",
    "import bs4\n",
    "from bs4 import BeautifulSoup as BS"
   ]
  },
  {
   "cell_type": "code",
   "execution_count": 26,
   "id": "0c7680f9-a2e3-4771-914e-b1222e536127",
   "metadata": {},
   "outputs": [],
   "source": [
    "def getHTMLPage(url):\n",
    "    \"\"\"Given a url, get the HTML page content\"\"\"\n",
    "    \n",
    "    response = requests.get(url)\n",
    "    if response.status_code == 200:\n",
    "        return response.text\n",
    "    else:\n",
    "        print(\"Failure resaon:\", response.reason)\n",
    "        return"
   ]
  },
  {
   "cell_type": "code",
   "execution_count": 27,
   "id": "d8a5ae90-6b96-4c79-b8a0-baacdcc24857",
   "metadata": {},
   "outputs": [
    {
     "name": "stdout",
     "output_type": "stream",
     "text": [
      "\n",
      "<DOCTYPE html>\n",
      "<html>\n",
      "    <head><title>Some songs on YouTube</title></head>\n",
      "    <body>\n",
      "        <h1>Some songs on YouTube</h1>\n",
      "        <ul>\n",
      "        \n",
      "            <li class=\"songs\"> <span class=\"title\">Back Door</span> by \n",
      "            <span class=\"artist\">Stray Kids</span> was released in \n",
      "            <span class=\"year\"> 2020 </span> and has \n",
      "            <span class=\"views\"> 345462761</span> views.</li> \n",
      "        \n",
      "            <li class=\"songs\"> <span class=\"title\">DASH</span> by \n",
      "            <span class=\"artist\">NMIXX</span> was released in \n",
      "            <span class=\"year\"> 2024 </span> and has \n",
      "            <span class=\"views\"> 21813949</span> views.</li> \n",
      "        \n",
      "            <li class=\"songs\"> <span class=\"title\">MANIAC</span> by \n",
      "            <span class=\"artist\">VIVIZ</span> was released in \n",
      "            <span class=\"year\"> 2023 </span> and has \n",
      "            <span class=\"views\"> 11652154</span> views.</li> \n",
      "        \n",
      "            <li class=\"songs\"> <span class=\"title\">View</span> by \n",
      "            <span class=\"artist\">SHINee</span> was released in \n",
      "            <span class=\"year\"> 2015 </span> and has \n",
      "            <span class=\"views\"> 64111719</span> views.</li> \n",
      "        \n",
      "            <li class=\"songs\"> <span class=\"title\">I AM</span> by \n",
      "            <span class=\"artist\">IVE</span> was released in \n",
      "            <span class=\"year\"> 2023 </span> and has \n",
      "            <span class=\"views\"> 208168309</span> views.</li> \n",
      "        \n",
      "            <li class=\"songs\"> <span class=\"title\">ON</span> by \n",
      "            <span class=\"artist\">BTS</span> was released in \n",
      "            <span class=\"year\"> 2020 </span> and has \n",
      "            <span class=\"views\"> 590926064</span> views.</li> \n",
      "        \n",
      "            <li class=\"songs\"> <span class=\"title\">Super</span> by \n",
      "            <span class=\"artist\">SEVENTEEN</span> was released in \n",
      "            <span class=\"year\"> 2023 </span> and has \n",
      "            <span class=\"views\"> 174740544</span> views.</li> \n",
      "        \n",
      "        </ul>\n",
      "    </body>\n",
      "</html>\n"
     ]
    }
   ],
   "source": [
    "url = \"https://cs.wellesley.edu/~cj104/songs.html\"\n",
    "\n",
    "htmlPage = getHTMLPage(url)\n",
    "print(htmlPage)"
   ]
  },
  {
   "cell_type": "code",
   "execution_count": 33,
   "id": "9ea10cca-0c3f-402e-8885-68b99dcf3979",
   "metadata": {},
   "outputs": [],
   "source": [
    "domTree = BS(htmlPage, 'html.parser')"
   ]
  },
  {
   "cell_type": "code",
   "execution_count": 118,
   "id": "ee3e4403-f7dc-4d5d-bc6d-defc8aa88f23",
   "metadata": {},
   "outputs": [
    {
     "data": {
      "text/plain": [
       "<li class=\"songs\"> <span class=\"title\">Back Door</span> by \n",
       "            <span class=\"artist\">Stray Kids</span> was released in \n",
       "            <span class=\"year\"> 2020 </span> and has \n",
       "            <span class=\"views\"> 345462761</span> views.</li>"
      ]
     },
     "execution_count": 118,
     "metadata": {},
     "output_type": "execute_result"
    }
   ],
   "source": [
    "domTree.find(class_=\"songs\")"
   ]
  },
  {
   "cell_type": "code",
   "execution_count": 122,
   "id": "c7cfd769-21f0-4c21-961f-bc723d3ab3ba",
   "metadata": {},
   "outputs": [
    {
     "data": {
      "text/plain": [
       "[<li class=\"songs\"> <span class=\"title\">Back Door</span> by \n",
       "             <span class=\"artist\">Stray Kids</span> was released in \n",
       "             <span class=\"year\"> 2020 </span> and has \n",
       "             <span class=\"views\"> 345462761</span> views.</li>,\n",
       " <li class=\"songs\"> <span class=\"title\">DASH</span> by \n",
       "             <span class=\"artist\">NMIXX</span> was released in \n",
       "             <span class=\"year\"> 2024 </span> and has \n",
       "             <span class=\"views\"> 21813949</span> views.</li>,\n",
       " <li class=\"songs\"> <span class=\"title\">MANIAC</span> by \n",
       "             <span class=\"artist\">VIVIZ</span> was released in \n",
       "             <span class=\"year\"> 2023 </span> and has \n",
       "             <span class=\"views\"> 11652154</span> views.</li>,\n",
       " <li class=\"songs\"> <span class=\"title\">View</span> by \n",
       "             <span class=\"artist\">SHINee</span> was released in \n",
       "             <span class=\"year\"> 2015 </span> and has \n",
       "             <span class=\"views\"> 64111719</span> views.</li>,\n",
       " <li class=\"songs\"> <span class=\"title\">I AM</span> by \n",
       "             <span class=\"artist\">IVE</span> was released in \n",
       "             <span class=\"year\"> 2023 </span> and has \n",
       "             <span class=\"views\"> 208168309</span> views.</li>,\n",
       " <li class=\"songs\"> <span class=\"title\">ON</span> by \n",
       "             <span class=\"artist\">BTS</span> was released in \n",
       "             <span class=\"year\"> 2020 </span> and has \n",
       "             <span class=\"views\"> 590926064</span> views.</li>,\n",
       " <li class=\"songs\"> <span class=\"title\">Super</span> by \n",
       "             <span class=\"artist\">SEVENTEEN</span> was released in \n",
       "             <span class=\"year\"> 2023 </span> and has \n",
       "             <span class=\"views\"> 174740544</span> views.</li>]"
      ]
     },
     "execution_count": 122,
     "metadata": {},
     "output_type": "execute_result"
    }
   ],
   "source": [
    "parsedHtml = domTree.find_all(class_='songs')\n",
    "parsedHtml"
   ]
  },
  {
   "cell_type": "code",
   "execution_count": 91,
   "id": "7fc9afcd-9b4a-4b9d-90a1-d3faf75c21c4",
   "metadata": {},
   "outputs": [
    {
     "data": {
      "text/plain": [
       "['',\n",
       " 'Back Door by ',\n",
       " '           Stray Kids was released in ',\n",
       " '            2020  and has ',\n",
       " '            345462761 views.',\n",
       " 'DASH by ',\n",
       " '           NMIXX was released in ',\n",
       " '            2024  and has ',\n",
       " '            21813949 views.',\n",
       " 'MANIAC by ',\n",
       " '           VIVIZ was released in ',\n",
       " '            2023  and has ',\n",
       " '            11652154 views.',\n",
       " 'View by ',\n",
       " '           SHINee was released in ',\n",
       " '            2015  and has ',\n",
       " '            64111719 views.',\n",
       " 'I AM by ',\n",
       " '           IVE was released in ',\n",
       " '            2023  and has ',\n",
       " '            208168309 views.',\n",
       " 'ON by ',\n",
       " '           BTS was released in ',\n",
       " '            2020  and has ',\n",
       " '            590926064 views.',\n",
       " 'Super by ',\n",
       " '           SEVENTEEN was released in ',\n",
       " '            2023  and has ',\n",
       " '            174740544 views.\\n']"
      ]
     },
     "execution_count": 91,
     "metadata": {},
     "output_type": "execute_result"
    }
   ],
   "source": [
    "parsedHtml = domTree.find(\"ul\").text.split('\\n ')\n",
    "parsedHtml"
   ]
  },
  {
   "cell_type": "code",
   "execution_count": 101,
   "id": "30db6201-c3fd-4ecb-8c1c-b91de115cc6a",
   "metadata": {},
   "outputs": [
    {
     "name": "stdout",
     "output_type": "stream",
     "text": [
      "1\n",
      "[]\n",
      "2\n",
      "['Back', 'Door', 'by']\n",
      "3\n",
      "['Stray', 'Kids', 'was', 'released', 'in']\n",
      "4\n",
      "['2020', 'and', 'has']\n",
      "5\n",
      "['345462761', 'views.']\n",
      "6\n",
      "['DASH', 'by']\n",
      "7\n",
      "['NMIXX', 'was', 'released', 'in']\n",
      "8\n",
      "['2024', 'and', 'has']\n",
      "9\n",
      "['21813949', 'views.']\n",
      "10\n",
      "['MANIAC', 'by']\n",
      "11\n",
      "['VIVIZ', 'was', 'released', 'in']\n",
      "12\n",
      "['2023', 'and', 'has']\n",
      "13\n",
      "['11652154', 'views.']\n",
      "14\n",
      "['View', 'by']\n",
      "15\n",
      "['SHINee', 'was', 'released', 'in']\n",
      "16\n",
      "['2015', 'and', 'has']\n",
      "17\n",
      "['64111719', 'views.']\n",
      "18\n",
      "['I', 'AM', 'by']\n",
      "19\n",
      "['IVE', 'was', 'released', 'in']\n",
      "20\n",
      "['2023', 'and', 'has']\n",
      "21\n",
      "['208168309', 'views.']\n",
      "22\n",
      "['ON', 'by']\n",
      "23\n",
      "['BTS', 'was', 'released', 'in']\n",
      "24\n",
      "['2020', 'and', 'has']\n",
      "25\n",
      "['590926064', 'views.']\n",
      "26\n",
      "['Super', 'by']\n",
      "27\n",
      "['SEVENTEEN', 'was', 'released', 'in']\n",
      "28\n",
      "['2023', 'and', 'has']\n",
      "29\n",
      "['174740544', 'views.']\n"
     ]
    }
   ],
   "source": [
    "i = 1\n",
    "for row in parsedHtml: \n",
    "    print(i)\n",
    "    print(row.split())\n",
    "    if i%4 == 2:\n",
    "        \n",
    "    i += 1"
   ]
  }
 ],
 "metadata": {
  "kernelspec": {
   "display_name": "Python 3 (ipykernel)",
   "language": "python",
   "name": "python3"
  },
  "language_info": {
   "codemirror_mode": {
    "name": "ipython",
    "version": 3
   },
   "file_extension": ".py",
   "mimetype": "text/x-python",
   "name": "python",
   "nbconvert_exporter": "python",
   "pygments_lexer": "ipython3",
   "version": "3.10.10"
  }
 },
 "nbformat": 4,
 "nbformat_minor": 5
}
