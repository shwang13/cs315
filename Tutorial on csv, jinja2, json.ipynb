{
 "cells": [
  {
   "cell_type": "markdown",
   "metadata": {},
   "source": [
    "# Tutorial on `csv`, `jinja2`, and `json`\n",
    "\n",
    "**Author: Eni Mustafaraj**  \n",
    "\n",
    "In this notebook I will introduce you to some new Python libraries by providing simple examples of working with each of them.\n",
    "\n",
    "**Table of Content**\n",
    "1. [The `csv` module](#sec1)\n",
    "2. [The `jinja2` module (to write HTML files)](#sec2)\n",
    "3. [The `json` module](#sec3)"
   ]
  },
  {
   "cell_type": "markdown",
   "metadata": {},
   "source": [
    "<a id=\"sec1\"></a>\n",
    "## 1: The `csv` module\n",
    "\n",
    "This module makes it really easy to work with CSV files (comma separated files that are usually created with spreadsheet applications like Excel or Google spreadsheets).\n",
    "\n",
    "We will be working with the spreadsheet `hogwarts.csv`, which has a few rows with Hogwarts students. The CSV file is part of the folder for this notebook."
   ]
  },
  {
   "cell_type": "markdown",
   "metadata": {},
   "source": [
    "<img src=\"hogwartsimg.png\" width=\"300\">"
   ]
  },
  {
   "cell_type": "markdown",
   "metadata": {},
   "source": [
    "There are two ways to read data from a CSV file:\n",
    "- as a list of rows\n",
    "- as a list of dictionaries\n",
    "\n",
    "### Method 1: Read a list of rows\n",
    "\n",
    "If we are not interested in the names of the fields, we can read the file one row at a time, and then use indices to access a certain field."
   ]
  },
  {
   "cell_type": "code",
   "execution_count": 1,
   "metadata": {},
   "outputs": [
    {
     "name": "stdout",
     "output_type": "stream",
     "text": [
      "[['Name', 'Classyear', 'House'], ['Hermione Granger', '2023', 'Gryffindor'], ['Luna Lovegood', '2024', 'Ravenclaw'], ['Cedric Diggory', '2021', 'Hufflepuff'], ['Drago Malfoy', '2023', 'Slytherin']]\n"
     ]
    }
   ],
   "source": [
    "import csv\n",
    "with open(\"hogwarts.csv\") as fileToRead: # open file to read\n",
    "    csvReader = csv.reader(fileToRead)   # create reader object\n",
    "    rows = [row for row in csvReader]    # do the reading of each row with list comprehension\n",
    "print(rows)"
   ]
  },
  {
   "cell_type": "markdown",
   "metadata": {},
   "source": [
    "Let's collect the houses:"
   ]
  },
  {
   "cell_type": "code",
   "execution_count": 2,
   "metadata": {},
   "outputs": [
    {
     "name": "stdout",
     "output_type": "stream",
     "text": [
      "['Gryffindor', 'Ravenclaw', 'Hufflepuff', 'Slytherin']\n"
     ]
    }
   ],
   "source": [
    "houses = [row[2] for row in rows[1:]] # avoid the first row that has the column names\n",
    "print(houses)"
   ]
  },
  {
   "cell_type": "markdown",
   "metadata": {},
   "source": [
    "### Method 2: Read a list of dictionaries\n",
    "\n",
    "If we want to keep the rows as key:value pairs of column name and value, we can create a `DictReader` object to do this:"
   ]
  },
  {
   "cell_type": "code",
   "execution_count": 3,
   "metadata": {},
   "outputs": [
    {
     "name": "stdout",
     "output_type": "stream",
     "text": [
      "{'Name': 'Hermione Granger', 'Classyear': '2023', 'House': 'Gryffindor'}\n",
      "{'Name': 'Luna Lovegood', 'Classyear': '2024', 'House': 'Ravenclaw'}\n",
      "{'Name': 'Cedric Diggory', 'Classyear': '2021', 'House': 'Hufflepuff'}\n",
      "{'Name': 'Drago Malfoy', 'Classyear': '2023', 'House': 'Slytherin'}\n"
     ]
    }
   ],
   "source": [
    "with open(\"hogwarts.csv\") as fileToRead:     # open file to read\n",
    "    csvReader = csv.DictReader(fileToRead)   # create reader object\n",
    "    rows = [row for row in csvReader]        # do the reading of each row\n",
    "\n",
    "for row in rows:\n",
    "    print(row)"
   ]
  },
  {
   "cell_type": "markdown",
   "metadata": {},
   "source": [
    "**Note:** Depending on what Python version is installed on your computer, you might see different results. Older versions might show each row as an `OrderedDict`, but newer versions show a simple dictionary."
   ]
  },
  {
   "cell_type": "code",
   "execution_count": 24,
   "metadata": {
    "scrolled": true
   },
   "outputs": [
    {
     "name": "stdout",
     "output_type": "stream",
     "text": [
      "[{'Name': 'Hermione Granger', 'Classyear': '2023', 'House': 'Gryffindor', 'Lastname': 'Granger'}, {'Name': 'Luna Lovegood', 'Classyear': '2024', 'House': 'Ravenclaw', 'Lastname': 'Lovegood'}, {'Name': 'Cedric Diggory', 'Classyear': '2021', 'House': 'Hufflepuff', 'Lastname': 'Diggory'}, {'Name': 'Drago Malfoy', 'Classyear': '2023', 'House': 'Slytherin', 'Lastname': 'Malfoy'}, OrderedDict([('Name', 'Harry Potter'), ('Classyear', '2023'), ('House', 'Gryffindor'), ('Lastname', 'Potter')])]\n",
      "Hermione Granger\n",
      "Luna Lovegood\n",
      "Cedric Diggory\n",
      "Drago Malfoy\n",
      "Harry Potter\n"
     ]
    }
   ],
   "source": [
    "# Print all the names\n",
    "for row in rows:\n",
    "    print(row['Name'])"
   ]
  },
  {
   "cell_type": "markdown",
   "metadata": {},
   "source": [
    "### Write into a CSV file\n",
    "\n",
    "Often we want to do the opposite task, write into a CSV file some data that we have generated or processed. In this example, I will add a new column and new row to the Hogwarts example and store it into a new CSV file."
   ]
  },
  {
   "cell_type": "code",
   "execution_count": 5,
   "metadata": {},
   "outputs": [],
   "source": [
    "# Adding a new Hogwarts student\n",
    "\n",
    "from collections import OrderedDict\n",
    "harry = OrderedDict({'Name': 'Harry Potter', \n",
    "                     'Classyear': '2023', \n",
    "                     'House': 'Gryffindor'})\n",
    "rows.append(harry)"
   ]
  },
  {
   "cell_type": "markdown",
   "metadata": {},
   "source": [
    "We will now add a new column to the data (meaning a new key:value pair in the dictionary). The new key we will add is the last name of each person, only for illustration purposes."
   ]
  },
  {
   "cell_type": "code",
   "execution_count": 6,
   "metadata": {},
   "outputs": [
    {
     "name": "stdout",
     "output_type": "stream",
     "text": [
      "{'Name': 'Hermione Granger', 'Classyear': '2023', 'House': 'Gryffindor', 'Lastname': 'Granger'}\n",
      "{'Name': 'Luna Lovegood', 'Classyear': '2024', 'House': 'Ravenclaw', 'Lastname': 'Lovegood'}\n",
      "{'Name': 'Cedric Diggory', 'Classyear': '2021', 'House': 'Hufflepuff', 'Lastname': 'Diggory'}\n",
      "{'Name': 'Drago Malfoy', 'Classyear': '2023', 'House': 'Slytherin', 'Lastname': 'Malfoy'}\n",
      "OrderedDict([('Name', 'Harry Potter'), ('Classyear', '2023'), ('House', 'Gryffindor'), ('Lastname', 'Potter')])\n"
     ]
    }
   ],
   "source": [
    "for student in rows:\n",
    "    student['Lastname'] = student['Name'].split(' ')[-1] # use -1 to get the last element, in case middle name present\n",
    "    print(student)\n"
   ]
  },
  {
   "cell_type": "markdown",
   "metadata": {},
   "source": [
    "Writing into a CSV file is very similar to reading from it:"
   ]
  },
  {
   "cell_type": "code",
   "execution_count": 8,
   "metadata": {},
   "outputs": [],
   "source": [
    "with open(\"hogwarts-big.csv\", 'w') as fileToWrite:\n",
    "    csvWriter = csv.DictWriter(fileToWrite, \n",
    "                               fieldnames=rows[0].keys()) # get the key names as column names\n",
    "    \n",
    "    csvWriter.writeheader() # write the column names\n",
    "    csvWriter.writerows(rows) # write all rows"
   ]
  },
  {
   "cell_type": "markdown",
   "metadata": {},
   "source": [
    "You should find the new file \"hogwarts-big.csv\" in your folder."
   ]
  },
  {
   "cell_type": "markdown",
   "metadata": {},
   "source": [
    "**Note:** All the functions and methods used in this example have more parameters, which are useful in various situations, you should consult the online documentation to learn about special cases, when necessary."
   ]
  },
  {
   "cell_type": "markdown",
   "metadata": {},
   "source": [
    "<a id=\"sec2\"></a>\n",
    "## 2. The `jinja2` module\n",
    "\n",
    "`jinja2` is a Python library that implements the Jinja templating language. What does that mean? Think of madlibs, you write a template that has empty slots which have to be filled. That is the job of Jinja. \n",
    "\n",
    "Jinja has its own syntax that is mixed with HTML code and by combining the template with data produces HTML code.\n",
    "\n",
    "In its simplest version, jinja2 works as the `format` string method:"
   ]
  },
  {
   "cell_type": "code",
   "execution_count": 9,
   "metadata": {},
   "outputs": [
    {
     "data": {
      "text/plain": [
       "'Hello Hermione!'"
      ]
     },
     "execution_count": 9,
     "metadata": {},
     "output_type": "execute_result"
    }
   ],
   "source": [
    "from jinja2 import Template\n",
    "t = Template(\"Hello {{ name }}!\")\n",
    "t.render(name=\"Hermione\")"
   ]
  },
  {
   "cell_type": "markdown",
   "metadata": {},
   "source": [
    "It's possible to have many named slots in the template and pass the arguments via a dictionary:"
   ]
  },
  {
   "cell_type": "code",
   "execution_count": 11,
   "metadata": {},
   "outputs": [
    {
     "data": {
      "text/plain": [
       "'Hermione comes from France and will live in Gryffindor.'"
      ]
     },
     "execution_count": 11,
     "metadata": {},
     "output_type": "execute_result"
    }
   ],
   "source": [
    "personDict = {'name': 'Hermione', \n",
    "              'house': 'Gryffindor', \n",
    "              'country': 'France'}\n",
    "\n",
    "t = Template(\"{{ name }} comes from {{ country }} and will live in {{ house}}.\")\n",
    "t.render(personDict)"
   ]
  },
  {
   "cell_type": "markdown",
   "metadata": {},
   "source": [
    "The power of `jinja2` comes to display when we use it with HTML code that has lots of repeating items, for which we can create a simple template. Below is an example that makes use of the CSV data from Part 1."
   ]
  },
  {
   "cell_type": "code",
   "execution_count": 12,
   "metadata": {},
   "outputs": [],
   "source": [
    "# Step 1: Read the content from CSV as a list of dictionaries\n",
    "\n",
    "with open(\"hogwarts.csv\") as fileToRead:     # open file to read\n",
    "    csvReader = csv.DictReader(fileToRead)   # create reader object\n",
    "    students = [row for row in csvReader] "
   ]
  },
  {
   "cell_type": "code",
   "execution_count": 15,
   "metadata": {},
   "outputs": [
    {
     "data": {
      "text/plain": [
       "[{'Name': 'Hermione Granger', 'Classyear': '2023', 'House': 'Gryffindor'},\n",
       " {'Name': 'Luna Lovegood', 'Classyear': '2024', 'House': 'Ravenclaw'},\n",
       " {'Name': 'Cedric Diggory', 'Classyear': '2021', 'House': 'Hufflepuff'},\n",
       " {'Name': 'Drago Malfoy', 'Classyear': '2023', 'House': 'Slytherin'}]"
      ]
     },
     "execution_count": 15,
     "metadata": {},
     "output_type": "execute_result"
    }
   ],
   "source": [
    "students[0]\n",
    "students"
   ]
  },
  {
   "cell_type": "code",
   "execution_count": 16,
   "metadata": {},
   "outputs": [],
   "source": [
    "# Step 2: Create the HTML template\n",
    "\n",
    "htmlTemplate = \"\"\"\n",
    "<DOCTYPE html>\n",
    "<html>\n",
    "    <head><title>Hogwarts Students</title></head>\n",
    "    <body>\n",
    "        <h1>Students at Hogwarts</h1>\n",
    "        <ul>\n",
    "        {% for st in studentsList %}\n",
    "            <li class=\"student\">{{ st['Name'] }}, Class of {{ st['Classyear'] }}, resides in {{ st['House']}}.</li> \n",
    "        {% endfor %}\n",
    "        </ul>\n",
    "    </body>\n",
    "</html>\n",
    "\"\"\"\n",
    "\n",
    "tempObj = Template(htmlTemplate)"
   ]
  },
  {
   "cell_type": "code",
   "execution_count": 17,
   "metadata": {
    "scrolled": true
   },
   "outputs": [
    {
     "name": "stdout",
     "output_type": "stream",
     "text": [
      "\n",
      "<DOCTYPE html>\n",
      "<html>\n",
      "    <head><title>Hogwarts Students</title></head>\n",
      "    <body>\n",
      "        <h1>Students at Hogwarts</h1>\n",
      "        <ul>\n",
      "        \n",
      "            <li class=\"student\">Hermione Granger, Class of 2023, resides in Gryffindor.</li> \n",
      "        \n",
      "            <li class=\"student\">Luna Lovegood, Class of 2024, resides in Ravenclaw.</li> \n",
      "        \n",
      "            <li class=\"student\">Cedric Diggory, Class of 2021, resides in Hufflepuff.</li> \n",
      "        \n",
      "            <li class=\"student\">Drago Malfoy, Class of 2023, resides in Slytherin.</li> \n",
      "        \n",
      "        </ul>\n",
      "    </body>\n",
      "</html>\n"
     ]
    }
   ],
   "source": [
    "# Step 3: Render the template by passing as an argument the list of objects.\n",
    "\n",
    "result = tempObj.render(studentsList=students)\n",
    "print(result)"
   ]
  },
  {
   "cell_type": "markdown",
   "metadata": {},
   "source": [
    "**Note:** It's possible for the original HTML template to be in a text file that is read into the program. Additionally, once we create an HTML string, we can save that into an HTML file."
   ]
  },
  {
   "cell_type": "code",
   "execution_count": 18,
   "metadata": {},
   "outputs": [],
   "source": [
    "with open('hogwarts.html', 'w') as outFile:\n",
    "    outFile.write(result)"
   ]
  },
  {
   "cell_type": "markdown",
   "metadata": {},
   "source": [
    "Jinja2 can do much more, but this might be sufficient for this time. Feel free to find web materials to explore this templating language in more details, especially if you plan to create web applications with many pages that read their data from databases."
   ]
  },
  {
   "cell_type": "markdown",
   "metadata": {},
   "source": [
    "<a id=\"sec3\"></a>\n",
    "## 3. The `json` module\n",
    "\n",
    "JSON stands for Javascript Object Notation and is one of the most useful technologies of the web, because allows data to be exchanged between clients and servers so that the data rendering can be done on the client-side, instead of the server. For example, the HTML page with `jinja2` that we create above needs to be created on the server, because Python runs on the server. Meanwhile, it's possible to write HTML pages that use Javascript code and the server sends only a JSON file to the client, instead of the static HTML page. \n",
    "\n",
    "JSON objects can be strings, lists, and dictionaries, but not Python objects. \n",
    "\n",
    "There are four operations to perform on them:\n",
    "- dump the data on a file (function `dump`)\n",
    "- load the data from a file (function `load`)\n",
    "- dump the data on a string (function `dumps`)\n",
    "- load the data from a string (function `loads`)\n",
    "\n",
    "Below we will use the list of dictionaries from Hogwarts (see Part 2)."
   ]
  },
  {
   "cell_type": "code",
   "execution_count": 19,
   "metadata": {},
   "outputs": [],
   "source": [
    "# Dump into a file\n",
    "\n",
    "import json\n",
    "with open('hogwarts-J.json', 'w') as outFile:\n",
    "    json.dump(students, outFile)"
   ]
  },
  {
   "cell_type": "code",
   "execution_count": 20,
   "metadata": {},
   "outputs": [
    {
     "data": {
      "text/plain": [
       "[{'Name': 'Hermione Granger', 'Classyear': '2023', 'House': 'Gryffindor'},\n",
       " {'Name': 'Luna Lovegood', 'Classyear': '2024', 'House': 'Ravenclaw'},\n",
       " {'Name': 'Cedric Diggory', 'Classyear': '2021', 'House': 'Hufflepuff'},\n",
       " {'Name': 'Drago Malfoy', 'Classyear': '2023', 'House': 'Slytherin'}]"
      ]
     },
     "execution_count": 20,
     "metadata": {},
     "output_type": "execute_result"
    }
   ],
   "source": [
    "# Load from a file\n",
    "\n",
    "with open('hogwarts-J.json') as inFile:\n",
    "    fromJson = json.load(inFile)\n",
    "    \n",
    "fromJson"
   ]
  },
  {
   "cell_type": "markdown",
   "metadata": {},
   "source": [
    "We can test whether the data we loaded from the file is the same that we dumped into it:"
   ]
  },
  {
   "cell_type": "code",
   "execution_count": 21,
   "metadata": {},
   "outputs": [
    {
     "data": {
      "text/plain": [
       "True"
      ]
     },
     "execution_count": 21,
     "metadata": {},
     "output_type": "execute_result"
    }
   ],
   "source": [
    "fromJson == students"
   ]
  },
  {
   "cell_type": "markdown",
   "metadata": {},
   "source": [
    "The two other functions `dumps` and `loads` are very similar, but they operate on strings. Especially `loads` might be usefully when we are gathering data from the Web. We send an HTTP requests that returns a JSON as a string, and we then load the object from that sring."
   ]
  },
  {
   "cell_type": "code",
   "execution_count": 22,
   "metadata": {},
   "outputs": [
    {
     "name": "stdout",
     "output_type": "stream",
     "text": [
      "{'color': 'red', 'flavor': 'lemon'}\n"
     ]
    }
   ],
   "source": [
    "test = '{\"color\": \"red\", \"flavor\": \"lemon\"}'\n",
    "res = json.loads(test)\n",
    "print(res)"
   ]
  },
  {
   "cell_type": "code",
   "execution_count": 23,
   "metadata": {},
   "outputs": [
    {
     "data": {
      "text/plain": [
       "'lemon'"
      ]
     },
     "execution_count": 23,
     "metadata": {},
     "output_type": "execute_result"
    }
   ],
   "source": [
    "res['flavor']"
   ]
  },
  {
   "cell_type": "markdown",
   "metadata": {},
   "source": [
    "Notice that if we didn't convert the string `test` above into the dictionary, we wouldn't have been able to access the key `flavor` the way we did. "
   ]
  }
 ],
 "metadata": {
  "kernelspec": {
   "display_name": "Python 3 (ipykernel)",
   "language": "python",
   "name": "python3"
  },
  "language_info": {
   "codemirror_mode": {
    "name": "ipython",
    "version": 3
   },
   "file_extension": ".py",
   "mimetype": "text/x-python",
   "name": "python",
   "nbconvert_exporter": "python",
   "pygments_lexer": "ipython3",
   "version": "3.10.10"
  }
 },
 "nbformat": 4,
 "nbformat_minor": 4
}
